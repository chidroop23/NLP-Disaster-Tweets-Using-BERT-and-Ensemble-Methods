{
  "cells": [
    {
      "cell_type": "code",
      "execution_count": null,
      "metadata": {
        "colab": {
          "base_uri": "https://localhost:8080/"
        },
        "id": "i-Dz8GEx0jT5",
        "outputId": "0e9abf89-0c72-4730-ae85-bbab26757bbd"
      },
      "outputs": [
        {
          "name": "stdout",
          "output_type": "stream",
          "text": [
            "Looking in indexes: https://pypi.org/simple, https://us-python.pkg.dev/colab-wheels/public/simple/\n",
            "Collecting transformers\n",
            "  Downloading transformers-4.25.1-py3-none-any.whl (5.8 MB)\n",
            "\u001b[K     |████████████████████████████████| 5.8 MB 4.5 MB/s \n",
            "\u001b[?25hRequirement already satisfied: regex!=2019.12.17 in /usr/local/lib/python3.8/dist-packages (from transformers) (2022.6.2)\n",
            "Requirement already satisfied: pyyaml>=5.1 in /usr/local/lib/python3.8/dist-packages (from transformers) (6.0)\n",
            "Requirement already satisfied: tqdm>=4.27 in /usr/local/lib/python3.8/dist-packages (from transformers) (4.64.1)\n",
            "Requirement already satisfied: packaging>=20.0 in /usr/local/lib/python3.8/dist-packages (from transformers) (21.3)\n",
            "Requirement already satisfied: filelock in /usr/local/lib/python3.8/dist-packages (from transformers) (3.8.0)\n",
            "Requirement already satisfied: numpy>=1.17 in /usr/local/lib/python3.8/dist-packages (from transformers) (1.21.6)\n",
            "Requirement already satisfied: requests in /usr/local/lib/python3.8/dist-packages (from transformers) (2.23.0)\n",
            "Collecting tokenizers!=0.11.3,<0.14,>=0.11.1\n",
            "  Downloading tokenizers-0.13.2-cp38-cp38-manylinux_2_17_x86_64.manylinux2014_x86_64.whl (7.6 MB)\n",
            "\u001b[K     |████████████████████████████████| 7.6 MB 73.2 MB/s \n",
            "\u001b[?25hCollecting huggingface-hub<1.0,>=0.10.0\n",
            "  Downloading huggingface_hub-0.11.1-py3-none-any.whl (182 kB)\n",
            "\u001b[K     |████████████████████████████████| 182 kB 97.4 MB/s \n",
            "\u001b[?25hRequirement already satisfied: typing-extensions>=3.7.4.3 in /usr/local/lib/python3.8/dist-packages (from huggingface-hub<1.0,>=0.10.0->transformers) (4.1.1)\n",
            "Requirement already satisfied: pyparsing!=3.0.5,>=2.0.2 in /usr/local/lib/python3.8/dist-packages (from packaging>=20.0->transformers) (3.0.9)\n",
            "Requirement already satisfied: chardet<4,>=3.0.2 in /usr/local/lib/python3.8/dist-packages (from requests->transformers) (3.0.4)\n",
            "Requirement already satisfied: certifi>=2017.4.17 in /usr/local/lib/python3.8/dist-packages (from requests->transformers) (2022.9.24)\n",
            "Requirement already satisfied: urllib3!=1.25.0,!=1.25.1,<1.26,>=1.21.1 in /usr/local/lib/python3.8/dist-packages (from requests->transformers) (1.24.3)\n",
            "Requirement already satisfied: idna<3,>=2.5 in /usr/local/lib/python3.8/dist-packages (from requests->transformers) (2.10)\n",
            "Installing collected packages: tokenizers, huggingface-hub, transformers\n",
            "Successfully installed huggingface-hub-0.11.1 tokenizers-0.13.2 transformers-4.25.1\n",
            "Looking in indexes: https://pypi.org/simple, https://us-python.pkg.dev/colab-wheels/public/simple/\n",
            "Collecting sentencepiece\n",
            "  Downloading sentencepiece-0.1.97-cp38-cp38-manylinux_2_17_x86_64.manylinux2014_x86_64.whl (1.3 MB)\n",
            "\u001b[K     |████████████████████████████████| 1.3 MB 4.6 MB/s \n",
            "\u001b[?25hInstalling collected packages: sentencepiece\n",
            "Successfully installed sentencepiece-0.1.97\n",
            "Looking in indexes: https://pypi.org/simple, https://us-python.pkg.dev/colab-wheels/public/simple/\n",
            "Collecting contractions\n",
            "  Downloading contractions-0.1.73-py2.py3-none-any.whl (8.7 kB)\n",
            "Collecting textsearch>=0.0.21\n",
            "  Downloading textsearch-0.0.24-py2.py3-none-any.whl (7.6 kB)\n",
            "Collecting anyascii\n",
            "  Downloading anyascii-0.3.1-py3-none-any.whl (287 kB)\n",
            "\u001b[K     |████████████████████████████████| 287 kB 4.4 MB/s \n",
            "\u001b[?25hCollecting pyahocorasick\n",
            "  Downloading pyahocorasick-1.4.4-cp38-cp38-manylinux_2_17_x86_64.manylinux2014_x86_64.whl (110 kB)\n",
            "\u001b[K     |████████████████████████████████| 110 kB 91.7 MB/s \n",
            "\u001b[?25hInstalling collected packages: pyahocorasick, anyascii, textsearch, contractions\n",
            "Successfully installed anyascii-0.3.1 contractions-0.1.73 pyahocorasick-1.4.4 textsearch-0.0.24\n"
          ]
        }
      ],
      "source": [
        " # installing required libraries\n",
        "!pip install transformers\n",
        "!pip install sentencepiece\n",
        "!pip install contractions"
      ]
    },
    {
      "cell_type": "code",
      "execution_count": null,
      "metadata": {
        "colab": {
          "base_uri": "https://localhost:8080/"
        },
        "id": "zVSL2Zpy0qx4",
        "outputId": "6e040d0d-85bd-4cd1-e7c1-63c382c1817d"
      },
      "outputs": [
        {
          "name": "stdout",
          "output_type": "stream",
          "text": [
            "--2022-12-04 06:49:40--  http://nlp.stanford.edu/data/glove.840B.300d.zip\n",
            "Resolving nlp.stanford.edu (nlp.stanford.edu)... 171.64.67.140\n",
            "Connecting to nlp.stanford.edu (nlp.stanford.edu)|171.64.67.140|:80... connected.\n",
            "HTTP request sent, awaiting response... 302 Found\n",
            "Location: https://nlp.stanford.edu/data/glove.840B.300d.zip [following]\n",
            "--2022-12-04 06:49:40--  https://nlp.stanford.edu/data/glove.840B.300d.zip\n",
            "Connecting to nlp.stanford.edu (nlp.stanford.edu)|171.64.67.140|:443... connected.\n",
            "HTTP request sent, awaiting response... 301 Moved Permanently\n",
            "Location: https://downloads.cs.stanford.edu/nlp/data/glove.840B.300d.zip [following]\n",
            "--2022-12-04 06:49:40--  https://downloads.cs.stanford.edu/nlp/data/glove.840B.300d.zip\n",
            "Resolving downloads.cs.stanford.edu (downloads.cs.stanford.edu)... 171.64.64.22\n",
            "Connecting to downloads.cs.stanford.edu (downloads.cs.stanford.edu)|171.64.64.22|:443... connected.\n",
            "HTTP request sent, awaiting response... 200 OK\n",
            "Length: 2176768927 (2.0G) [application/zip]\n",
            "Saving to: ‘glove.840B.300d.zip’\n",
            "\n",
            "glove.840B.300d.zip 100%[===================>]   2.03G  4.66MB/s    in 7m 49s  \n",
            "\n",
            "2022-12-04 06:57:30 (4.43 MB/s) - ‘glove.840B.300d.zip’ saved [2176768927/2176768927]\n",
            "\n"
          ]
        }
      ],
      "source": [
        "# downloading glove\n",
        "!wget http://nlp.stanford.edu/data/glove.840B.300d.zip"
      ]
    },
    {
      "cell_type": "code",
      "execution_count": 1,
      "metadata": {
        "colab": {
          "base_uri": "https://localhost:8080/"
        },
        "id": "O0vSQFaT0q0I",
        "outputId": "98afd0e1-03ff-40fb-8e3f-17d53445dd01"
      },
      "outputs": [
        {
          "output_type": "stream",
          "name": "stderr",
          "text": [
            "[nltk_data] Downloading package punkt to /root/nltk_data...\n",
            "[nltk_data]   Package punkt is already up-to-date!\n",
            "[nltk_data] Downloading package word2vec_sample to /root/nltk_data...\n",
            "[nltk_data]   Package word2vec_sample is already up-to-date!\n",
            "[nltk_data] Downloading package stopwords to /root/nltk_data...\n",
            "[nltk_data]   Package stopwords is already up-to-date!\n"
          ]
        }
      ],
      "source": [
        "import os\n",
        "import pandas as pd\n",
        "import numpy as np\n",
        "import pickle\n",
        "from tqdm.notebook import tqdm\n",
        "from tqdm import tqdm, trange\n",
        "from ast import literal_eval\n",
        "import json\n",
        "\n",
        "import tensorflow as tf\n",
        "import torch\n",
        "from torch.nn import BCEWithLogitsLoss, BCELoss\n",
        "from torch.utils.data import TensorDataset, DataLoader, RandomSampler, SequentialSampler\n",
        "from tensorflow.nn import softmax\n",
        "from keras.models import Sequential\n",
        "from keras.layers import Dense, Input, LSTM, Bidirectional, Activation, Conv1D, GRU\n",
        "from keras.layers import Dropout, Embedding, GlobalMaxPooling1D, MaxPooling1D, Add, Flatten, Masking\n",
        "from keras.layers import GlobalAveragePooling1D, GlobalMaxPooling1D, concatenate, SpatialDropout1D\n",
        "from keras.preprocessing import text, sequence\n",
        "from keras import initializers, regularizers, constraints, optimizers, layers, callbacks\n",
        "from keras.callbacks import EarlyStopping, ModelCheckpoint, Callback\n",
        "from keras.models import Model\n",
        "from keras.optimizers import Adam, Adamax\n",
        "from keras.utils import pad_sequences\n",
        "from keras_preprocessing.sequence import pad_sequences\n",
        "from keras.losses import BinaryCrossentropy, SparseCategoricalCrossentropy\n",
        "from keras.metrics import SparseCategoricalAccuracy, BinaryAccuracy\n",
        "from keras import backend as K\n",
        "from transformers import RobertaTokenizer, RobertaForSequenceClassification, BertTokenizer, BertForSequenceClassification\n",
        "from transformers import AdamW, get_linear_schedule_with_warmup\n",
        "from transformers import TFBertForSequenceClassification, TFRobertaForSequenceClassification\n",
        "\n",
        "from sklearn.model_selection import train_test_split\n",
        "from sklearn import preprocessing\n",
        "from sklearn.preprocessing import MultiLabelBinarizer\n",
        "from sklearn.metrics import classification_report, confusion_matrix, multilabel_confusion_matrix\n",
        "from sklearn.metrics import f1_score, accuracy_score, roc_auc_score\n",
        "\n",
        "import nltk\n",
        "import gensim\n",
        "from nltk.data import find\n",
        "from nltk.tokenize import LineTokenizer, sent_tokenize, TweetTokenizer\n",
        "nltk.download('punkt')\n",
        "nltk.download('word2vec_sample')\n",
        "nltk.download('stopwords')\n",
        "\n",
        "import re\n",
        "import contractions\n",
        "import zipfile\n",
        "from google.colab import drive\n",
        "import matplotlib.pyplot as plt\n",
        "import seaborn as sns\n",
        "sns.set_style(\"whitegrid\")"
      ]
    },
    {
      "cell_type": "code",
      "execution_count": null,
      "metadata": {
        "colab": {
          "base_uri": "https://localhost:8080/"
        },
        "id": "f9oRg6Bq0q2P",
        "outputId": "0d65b122-ce12-4ad0-a9c4-f1d639e64a50"
      },
      "outputs": [
        {
          "name": "stdout",
          "output_type": "stream",
          "text": [
            "Mounted at /content/drive/\n"
          ]
        }
      ],
      "source": [
        "# mount google drive\n",
        "drive.mount('/content/drive/', force_remount = True)"
      ]
    },
    {
      "cell_type": "markdown",
      "metadata": {
        "id": "Y8HLcERkZfTQ"
      },
      "source": [
        "# Data Collection"
      ]
    },
    {
      "cell_type": "code",
      "execution_count": 2,
      "metadata": {
        "id": "03GoS5n80q4j"
      },
      "outputs": [],
      "source": [
        "# load data from kaggle\n",
        "train = pd.read_csv(\"/content/drive/My Drive/255/train.csv\")\n",
        "test = pd.read_csv(\"/content/drive/My Drive/255/test.csv\")\n",
        "sample = pd.read_csv(\"/content/drive/My Drive/255/sample_submission.csv\")"
      ]
    },
    {
      "cell_type": "code",
      "execution_count": 3,
      "metadata": {
        "colab": {
          "base_uri": "https://localhost:8080/",
          "height": 224
        },
        "id": "nGpQjx9t0q6X",
        "outputId": "55947474-2826-40a4-d9ff-9956bcb93f95"
      },
      "outputs": [
        {
          "output_type": "stream",
          "name": "stdout",
          "text": [
            "(7613, 5)\n"
          ]
        },
        {
          "output_type": "execute_result",
          "data": {
            "text/plain": [
              "   id keyword location                                               text  \\\n",
              "0   1     NaN      NaN  Our Deeds are the Reason of this #earthquake M...   \n",
              "1   4     NaN      NaN             Forest fire near La Ronge Sask. Canada   \n",
              "2   5     NaN      NaN  All residents asked to 'shelter in place' are ...   \n",
              "3   6     NaN      NaN  13,000 people receive #wildfires evacuation or...   \n",
              "4   7     NaN      NaN  Just got sent this photo from Ruby #Alaska as ...   \n",
              "\n",
              "   target  \n",
              "0       1  \n",
              "1       1  \n",
              "2       1  \n",
              "3       1  \n",
              "4       1  "
            ],
            "text/html": [
              "\n",
              "  <div id=\"df-d4f9a6fa-bd78-4d67-a7e5-9d42e744da9c\">\n",
              "    <div class=\"colab-df-container\">\n",
              "      <div>\n",
              "<style scoped>\n",
              "    .dataframe tbody tr th:only-of-type {\n",
              "        vertical-align: middle;\n",
              "    }\n",
              "\n",
              "    .dataframe tbody tr th {\n",
              "        vertical-align: top;\n",
              "    }\n",
              "\n",
              "    .dataframe thead th {\n",
              "        text-align: right;\n",
              "    }\n",
              "</style>\n",
              "<table border=\"1\" class=\"dataframe\">\n",
              "  <thead>\n",
              "    <tr style=\"text-align: right;\">\n",
              "      <th></th>\n",
              "      <th>id</th>\n",
              "      <th>keyword</th>\n",
              "      <th>location</th>\n",
              "      <th>text</th>\n",
              "      <th>target</th>\n",
              "    </tr>\n",
              "  </thead>\n",
              "  <tbody>\n",
              "    <tr>\n",
              "      <th>0</th>\n",
              "      <td>1</td>\n",
              "      <td>NaN</td>\n",
              "      <td>NaN</td>\n",
              "      <td>Our Deeds are the Reason of this #earthquake M...</td>\n",
              "      <td>1</td>\n",
              "    </tr>\n",
              "    <tr>\n",
              "      <th>1</th>\n",
              "      <td>4</td>\n",
              "      <td>NaN</td>\n",
              "      <td>NaN</td>\n",
              "      <td>Forest fire near La Ronge Sask. Canada</td>\n",
              "      <td>1</td>\n",
              "    </tr>\n",
              "    <tr>\n",
              "      <th>2</th>\n",
              "      <td>5</td>\n",
              "      <td>NaN</td>\n",
              "      <td>NaN</td>\n",
              "      <td>All residents asked to 'shelter in place' are ...</td>\n",
              "      <td>1</td>\n",
              "    </tr>\n",
              "    <tr>\n",
              "      <th>3</th>\n",
              "      <td>6</td>\n",
              "      <td>NaN</td>\n",
              "      <td>NaN</td>\n",
              "      <td>13,000 people receive #wildfires evacuation or...</td>\n",
              "      <td>1</td>\n",
              "    </tr>\n",
              "    <tr>\n",
              "      <th>4</th>\n",
              "      <td>7</td>\n",
              "      <td>NaN</td>\n",
              "      <td>NaN</td>\n",
              "      <td>Just got sent this photo from Ruby #Alaska as ...</td>\n",
              "      <td>1</td>\n",
              "    </tr>\n",
              "  </tbody>\n",
              "</table>\n",
              "</div>\n",
              "      <button class=\"colab-df-convert\" onclick=\"convertToInteractive('df-d4f9a6fa-bd78-4d67-a7e5-9d42e744da9c')\"\n",
              "              title=\"Convert this dataframe to an interactive table.\"\n",
              "              style=\"display:none;\">\n",
              "        \n",
              "  <svg xmlns=\"http://www.w3.org/2000/svg\" height=\"24px\"viewBox=\"0 0 24 24\"\n",
              "       width=\"24px\">\n",
              "    <path d=\"M0 0h24v24H0V0z\" fill=\"none\"/>\n",
              "    <path d=\"M18.56 5.44l.94 2.06.94-2.06 2.06-.94-2.06-.94-.94-2.06-.94 2.06-2.06.94zm-11 1L8.5 8.5l.94-2.06 2.06-.94-2.06-.94L8.5 2.5l-.94 2.06-2.06.94zm10 10l.94 2.06.94-2.06 2.06-.94-2.06-.94-.94-2.06-.94 2.06-2.06.94z\"/><path d=\"M17.41 7.96l-1.37-1.37c-.4-.4-.92-.59-1.43-.59-.52 0-1.04.2-1.43.59L10.3 9.45l-7.72 7.72c-.78.78-.78 2.05 0 2.83L4 21.41c.39.39.9.59 1.41.59.51 0 1.02-.2 1.41-.59l7.78-7.78 2.81-2.81c.8-.78.8-2.07 0-2.86zM5.41 20L4 18.59l7.72-7.72 1.47 1.35L5.41 20z\"/>\n",
              "  </svg>\n",
              "      </button>\n",
              "      \n",
              "  <style>\n",
              "    .colab-df-container {\n",
              "      display:flex;\n",
              "      flex-wrap:wrap;\n",
              "      gap: 12px;\n",
              "    }\n",
              "\n",
              "    .colab-df-convert {\n",
              "      background-color: #E8F0FE;\n",
              "      border: none;\n",
              "      border-radius: 50%;\n",
              "      cursor: pointer;\n",
              "      display: none;\n",
              "      fill: #1967D2;\n",
              "      height: 32px;\n",
              "      padding: 0 0 0 0;\n",
              "      width: 32px;\n",
              "    }\n",
              "\n",
              "    .colab-df-convert:hover {\n",
              "      background-color: #E2EBFA;\n",
              "      box-shadow: 0px 1px 2px rgba(60, 64, 67, 0.3), 0px 1px 3px 1px rgba(60, 64, 67, 0.15);\n",
              "      fill: #174EA6;\n",
              "    }\n",
              "\n",
              "    [theme=dark] .colab-df-convert {\n",
              "      background-color: #3B4455;\n",
              "      fill: #D2E3FC;\n",
              "    }\n",
              "\n",
              "    [theme=dark] .colab-df-convert:hover {\n",
              "      background-color: #434B5C;\n",
              "      box-shadow: 0px 1px 3px 1px rgba(0, 0, 0, 0.15);\n",
              "      filter: drop-shadow(0px 1px 2px rgba(0, 0, 0, 0.3));\n",
              "      fill: #FFFFFF;\n",
              "    }\n",
              "  </style>\n",
              "\n",
              "      <script>\n",
              "        const buttonEl =\n",
              "          document.querySelector('#df-d4f9a6fa-bd78-4d67-a7e5-9d42e744da9c button.colab-df-convert');\n",
              "        buttonEl.style.display =\n",
              "          google.colab.kernel.accessAllowed ? 'block' : 'none';\n",
              "\n",
              "        async function convertToInteractive(key) {\n",
              "          const element = document.querySelector('#df-d4f9a6fa-bd78-4d67-a7e5-9d42e744da9c');\n",
              "          const dataTable =\n",
              "            await google.colab.kernel.invokeFunction('convertToInteractive',\n",
              "                                                     [key], {});\n",
              "          if (!dataTable) return;\n",
              "\n",
              "          const docLinkHtml = 'Like what you see? Visit the ' +\n",
              "            '<a target=\"_blank\" href=https://colab.research.google.com/notebooks/data_table.ipynb>data table notebook</a>'\n",
              "            + ' to learn more about interactive tables.';\n",
              "          element.innerHTML = '';\n",
              "          dataTable['output_type'] = 'display_data';\n",
              "          await google.colab.output.renderOutput(dataTable, element);\n",
              "          const docLink = document.createElement('div');\n",
              "          docLink.innerHTML = docLinkHtml;\n",
              "          element.appendChild(docLink);\n",
              "        }\n",
              "      </script>\n",
              "    </div>\n",
              "  </div>\n",
              "  "
            ]
          },
          "metadata": {},
          "execution_count": 3
        }
      ],
      "source": [
        "# training set shape and head\n",
        "print(train.shape)\n",
        "train.head()"
      ]
    },
    {
      "cell_type": "code",
      "execution_count": 4,
      "metadata": {
        "colab": {
          "base_uri": "https://localhost:8080/"
        },
        "id": "JIbSuqua01gf",
        "outputId": "0c1d5dca-5d6b-4c61-e305-d16e04849ea4"
      },
      "outputs": [
        {
          "output_type": "stream",
          "name": "stdout",
          "text": [
            "<class 'pandas.core.frame.DataFrame'>\n",
            "RangeIndex: 7613 entries, 0 to 7612\n",
            "Data columns (total 5 columns):\n",
            " #   Column    Non-Null Count  Dtype \n",
            "---  ------    --------------  ----- \n",
            " 0   id        7613 non-null   int64 \n",
            " 1   keyword   7552 non-null   object\n",
            " 2   location  5080 non-null   object\n",
            " 3   text      7613 non-null   object\n",
            " 4   target    7613 non-null   int64 \n",
            "dtypes: int64(2), object(3)\n",
            "memory usage: 297.5+ KB\n"
          ]
        }
      ],
      "source": [
        "# check missing values and data type\n",
        "train.info()"
      ]
    },
    {
      "cell_type": "code",
      "execution_count": 5,
      "metadata": {
        "colab": {
          "base_uri": "https://localhost:8080/"
        },
        "id": "2Toc0TGO5PfS",
        "outputId": "94204c61-4e98-471b-969f-2b4e7b6b0738"
      },
      "outputs": [
        {
          "output_type": "execute_result",
          "data": {
            "text/plain": [
              "0    4342\n",
              "1    3271\n",
              "Name: target, dtype: int64"
            ]
          },
          "metadata": {},
          "execution_count": 5
        }
      ],
      "source": [
        "train['target'].value_counts()"
      ]
    },
    {
      "cell_type": "code",
      "execution_count": 6,
      "metadata": {
        "colab": {
          "base_uri": "https://localhost:8080/",
          "height": 224
        },
        "id": "tds0eObt01lJ",
        "outputId": "460727f5-c0d6-4e6d-cb83-8b25d67362f4"
      },
      "outputs": [
        {
          "output_type": "stream",
          "name": "stdout",
          "text": [
            "(3263, 4)\n"
          ]
        },
        {
          "output_type": "execute_result",
          "data": {
            "text/plain": [
              "   id keyword location                                               text\n",
              "0   0     NaN      NaN                 Just happened a terrible car crash\n",
              "1   2     NaN      NaN  Heard about #earthquake is different cities, s...\n",
              "2   3     NaN      NaN  there is a forest fire at spot pond, geese are...\n",
              "3   9     NaN      NaN           Apocalypse lighting. #Spokane #wildfires\n",
              "4  11     NaN      NaN      Typhoon Soudelor kills 28 in China and Taiwan"
            ],
            "text/html": [
              "\n",
              "  <div id=\"df-805b9e85-a95d-4f30-9362-a25eaf8ff99f\">\n",
              "    <div class=\"colab-df-container\">\n",
              "      <div>\n",
              "<style scoped>\n",
              "    .dataframe tbody tr th:only-of-type {\n",
              "        vertical-align: middle;\n",
              "    }\n",
              "\n",
              "    .dataframe tbody tr th {\n",
              "        vertical-align: top;\n",
              "    }\n",
              "\n",
              "    .dataframe thead th {\n",
              "        text-align: right;\n",
              "    }\n",
              "</style>\n",
              "<table border=\"1\" class=\"dataframe\">\n",
              "  <thead>\n",
              "    <tr style=\"text-align: right;\">\n",
              "      <th></th>\n",
              "      <th>id</th>\n",
              "      <th>keyword</th>\n",
              "      <th>location</th>\n",
              "      <th>text</th>\n",
              "    </tr>\n",
              "  </thead>\n",
              "  <tbody>\n",
              "    <tr>\n",
              "      <th>0</th>\n",
              "      <td>0</td>\n",
              "      <td>NaN</td>\n",
              "      <td>NaN</td>\n",
              "      <td>Just happened a terrible car crash</td>\n",
              "    </tr>\n",
              "    <tr>\n",
              "      <th>1</th>\n",
              "      <td>2</td>\n",
              "      <td>NaN</td>\n",
              "      <td>NaN</td>\n",
              "      <td>Heard about #earthquake is different cities, s...</td>\n",
              "    </tr>\n",
              "    <tr>\n",
              "      <th>2</th>\n",
              "      <td>3</td>\n",
              "      <td>NaN</td>\n",
              "      <td>NaN</td>\n",
              "      <td>there is a forest fire at spot pond, geese are...</td>\n",
              "    </tr>\n",
              "    <tr>\n",
              "      <th>3</th>\n",
              "      <td>9</td>\n",
              "      <td>NaN</td>\n",
              "      <td>NaN</td>\n",
              "      <td>Apocalypse lighting. #Spokane #wildfires</td>\n",
              "    </tr>\n",
              "    <tr>\n",
              "      <th>4</th>\n",
              "      <td>11</td>\n",
              "      <td>NaN</td>\n",
              "      <td>NaN</td>\n",
              "      <td>Typhoon Soudelor kills 28 in China and Taiwan</td>\n",
              "    </tr>\n",
              "  </tbody>\n",
              "</table>\n",
              "</div>\n",
              "      <button class=\"colab-df-convert\" onclick=\"convertToInteractive('df-805b9e85-a95d-4f30-9362-a25eaf8ff99f')\"\n",
              "              title=\"Convert this dataframe to an interactive table.\"\n",
              "              style=\"display:none;\">\n",
              "        \n",
              "  <svg xmlns=\"http://www.w3.org/2000/svg\" height=\"24px\"viewBox=\"0 0 24 24\"\n",
              "       width=\"24px\">\n",
              "    <path d=\"M0 0h24v24H0V0z\" fill=\"none\"/>\n",
              "    <path d=\"M18.56 5.44l.94 2.06.94-2.06 2.06-.94-2.06-.94-.94-2.06-.94 2.06-2.06.94zm-11 1L8.5 8.5l.94-2.06 2.06-.94-2.06-.94L8.5 2.5l-.94 2.06-2.06.94zm10 10l.94 2.06.94-2.06 2.06-.94-2.06-.94-.94-2.06-.94 2.06-2.06.94z\"/><path d=\"M17.41 7.96l-1.37-1.37c-.4-.4-.92-.59-1.43-.59-.52 0-1.04.2-1.43.59L10.3 9.45l-7.72 7.72c-.78.78-.78 2.05 0 2.83L4 21.41c.39.39.9.59 1.41.59.51 0 1.02-.2 1.41-.59l7.78-7.78 2.81-2.81c.8-.78.8-2.07 0-2.86zM5.41 20L4 18.59l7.72-7.72 1.47 1.35L5.41 20z\"/>\n",
              "  </svg>\n",
              "      </button>\n",
              "      \n",
              "  <style>\n",
              "    .colab-df-container {\n",
              "      display:flex;\n",
              "      flex-wrap:wrap;\n",
              "      gap: 12px;\n",
              "    }\n",
              "\n",
              "    .colab-df-convert {\n",
              "      background-color: #E8F0FE;\n",
              "      border: none;\n",
              "      border-radius: 50%;\n",
              "      cursor: pointer;\n",
              "      display: none;\n",
              "      fill: #1967D2;\n",
              "      height: 32px;\n",
              "      padding: 0 0 0 0;\n",
              "      width: 32px;\n",
              "    }\n",
              "\n",
              "    .colab-df-convert:hover {\n",
              "      background-color: #E2EBFA;\n",
              "      box-shadow: 0px 1px 2px rgba(60, 64, 67, 0.3), 0px 1px 3px 1px rgba(60, 64, 67, 0.15);\n",
              "      fill: #174EA6;\n",
              "    }\n",
              "\n",
              "    [theme=dark] .colab-df-convert {\n",
              "      background-color: #3B4455;\n",
              "      fill: #D2E3FC;\n",
              "    }\n",
              "\n",
              "    [theme=dark] .colab-df-convert:hover {\n",
              "      background-color: #434B5C;\n",
              "      box-shadow: 0px 1px 3px 1px rgba(0, 0, 0, 0.15);\n",
              "      filter: drop-shadow(0px 1px 2px rgba(0, 0, 0, 0.3));\n",
              "      fill: #FFFFFF;\n",
              "    }\n",
              "  </style>\n",
              "\n",
              "      <script>\n",
              "        const buttonEl =\n",
              "          document.querySelector('#df-805b9e85-a95d-4f30-9362-a25eaf8ff99f button.colab-df-convert');\n",
              "        buttonEl.style.display =\n",
              "          google.colab.kernel.accessAllowed ? 'block' : 'none';\n",
              "\n",
              "        async function convertToInteractive(key) {\n",
              "          const element = document.querySelector('#df-805b9e85-a95d-4f30-9362-a25eaf8ff99f');\n",
              "          const dataTable =\n",
              "            await google.colab.kernel.invokeFunction('convertToInteractive',\n",
              "                                                     [key], {});\n",
              "          if (!dataTable) return;\n",
              "\n",
              "          const docLinkHtml = 'Like what you see? Visit the ' +\n",
              "            '<a target=\"_blank\" href=https://colab.research.google.com/notebooks/data_table.ipynb>data table notebook</a>'\n",
              "            + ' to learn more about interactive tables.';\n",
              "          element.innerHTML = '';\n",
              "          dataTable['output_type'] = 'display_data';\n",
              "          await google.colab.output.renderOutput(dataTable, element);\n",
              "          const docLink = document.createElement('div');\n",
              "          docLink.innerHTML = docLinkHtml;\n",
              "          element.appendChild(docLink);\n",
              "        }\n",
              "      </script>\n",
              "    </div>\n",
              "  </div>\n",
              "  "
            ]
          },
          "metadata": {},
          "execution_count": 6
        }
      ],
      "source": [
        "# testing text shape and head\n",
        "print(test.shape)\n",
        "test.head()"
      ]
    },
    {
      "cell_type": "code",
      "execution_count": 7,
      "metadata": {
        "colab": {
          "base_uri": "https://localhost:8080/"
        },
        "id": "ALEzjBD5052l",
        "outputId": "0fdc1910-cf36-413e-e359-a3e4d8e6cf66"
      },
      "outputs": [
        {
          "output_type": "stream",
          "name": "stdout",
          "text": [
            "<class 'pandas.core.frame.DataFrame'>\n",
            "RangeIndex: 3263 entries, 0 to 3262\n",
            "Data columns (total 4 columns):\n",
            " #   Column    Non-Null Count  Dtype \n",
            "---  ------    --------------  ----- \n",
            " 0   id        3263 non-null   int64 \n",
            " 1   keyword   3237 non-null   object\n",
            " 2   location  2158 non-null   object\n",
            " 3   text      3263 non-null   object\n",
            "dtypes: int64(1), object(3)\n",
            "memory usage: 102.1+ KB\n"
          ]
        }
      ],
      "source": [
        "# check missing values and data type\n",
        "test.info()"
      ]
    },
    {
      "cell_type": "code",
      "execution_count": 8,
      "metadata": {
        "colab": {
          "base_uri": "https://localhost:8080/",
          "height": 224
        },
        "id": "LxMdNiFl1Agl",
        "outputId": "3d9d0374-9028-4fae-f879-5154d477a15d"
      },
      "outputs": [
        {
          "output_type": "stream",
          "name": "stdout",
          "text": [
            "(3263, 2)\n"
          ]
        },
        {
          "output_type": "execute_result",
          "data": {
            "text/plain": [
              "   id  target\n",
              "0   0       0\n",
              "1   2       0\n",
              "2   3       0\n",
              "3   9       0\n",
              "4  11       0"
            ],
            "text/html": [
              "\n",
              "  <div id=\"df-8bc0c058-ae93-41ee-92f7-2474549bae89\">\n",
              "    <div class=\"colab-df-container\">\n",
              "      <div>\n",
              "<style scoped>\n",
              "    .dataframe tbody tr th:only-of-type {\n",
              "        vertical-align: middle;\n",
              "    }\n",
              "\n",
              "    .dataframe tbody tr th {\n",
              "        vertical-align: top;\n",
              "    }\n",
              "\n",
              "    .dataframe thead th {\n",
              "        text-align: right;\n",
              "    }\n",
              "</style>\n",
              "<table border=\"1\" class=\"dataframe\">\n",
              "  <thead>\n",
              "    <tr style=\"text-align: right;\">\n",
              "      <th></th>\n",
              "      <th>id</th>\n",
              "      <th>target</th>\n",
              "    </tr>\n",
              "  </thead>\n",
              "  <tbody>\n",
              "    <tr>\n",
              "      <th>0</th>\n",
              "      <td>0</td>\n",
              "      <td>0</td>\n",
              "    </tr>\n",
              "    <tr>\n",
              "      <th>1</th>\n",
              "      <td>2</td>\n",
              "      <td>0</td>\n",
              "    </tr>\n",
              "    <tr>\n",
              "      <th>2</th>\n",
              "      <td>3</td>\n",
              "      <td>0</td>\n",
              "    </tr>\n",
              "    <tr>\n",
              "      <th>3</th>\n",
              "      <td>9</td>\n",
              "      <td>0</td>\n",
              "    </tr>\n",
              "    <tr>\n",
              "      <th>4</th>\n",
              "      <td>11</td>\n",
              "      <td>0</td>\n",
              "    </tr>\n",
              "  </tbody>\n",
              "</table>\n",
              "</div>\n",
              "      <button class=\"colab-df-convert\" onclick=\"convertToInteractive('df-8bc0c058-ae93-41ee-92f7-2474549bae89')\"\n",
              "              title=\"Convert this dataframe to an interactive table.\"\n",
              "              style=\"display:none;\">\n",
              "        \n",
              "  <svg xmlns=\"http://www.w3.org/2000/svg\" height=\"24px\"viewBox=\"0 0 24 24\"\n",
              "       width=\"24px\">\n",
              "    <path d=\"M0 0h24v24H0V0z\" fill=\"none\"/>\n",
              "    <path d=\"M18.56 5.44l.94 2.06.94-2.06 2.06-.94-2.06-.94-.94-2.06-.94 2.06-2.06.94zm-11 1L8.5 8.5l.94-2.06 2.06-.94-2.06-.94L8.5 2.5l-.94 2.06-2.06.94zm10 10l.94 2.06.94-2.06 2.06-.94-2.06-.94-.94-2.06-.94 2.06-2.06.94z\"/><path d=\"M17.41 7.96l-1.37-1.37c-.4-.4-.92-.59-1.43-.59-.52 0-1.04.2-1.43.59L10.3 9.45l-7.72 7.72c-.78.78-.78 2.05 0 2.83L4 21.41c.39.39.9.59 1.41.59.51 0 1.02-.2 1.41-.59l7.78-7.78 2.81-2.81c.8-.78.8-2.07 0-2.86zM5.41 20L4 18.59l7.72-7.72 1.47 1.35L5.41 20z\"/>\n",
              "  </svg>\n",
              "      </button>\n",
              "      \n",
              "  <style>\n",
              "    .colab-df-container {\n",
              "      display:flex;\n",
              "      flex-wrap:wrap;\n",
              "      gap: 12px;\n",
              "    }\n",
              "\n",
              "    .colab-df-convert {\n",
              "      background-color: #E8F0FE;\n",
              "      border: none;\n",
              "      border-radius: 50%;\n",
              "      cursor: pointer;\n",
              "      display: none;\n",
              "      fill: #1967D2;\n",
              "      height: 32px;\n",
              "      padding: 0 0 0 0;\n",
              "      width: 32px;\n",
              "    }\n",
              "\n",
              "    .colab-df-convert:hover {\n",
              "      background-color: #E2EBFA;\n",
              "      box-shadow: 0px 1px 2px rgba(60, 64, 67, 0.3), 0px 1px 3px 1px rgba(60, 64, 67, 0.15);\n",
              "      fill: #174EA6;\n",
              "    }\n",
              "\n",
              "    [theme=dark] .colab-df-convert {\n",
              "      background-color: #3B4455;\n",
              "      fill: #D2E3FC;\n",
              "    }\n",
              "\n",
              "    [theme=dark] .colab-df-convert:hover {\n",
              "      background-color: #434B5C;\n",
              "      box-shadow: 0px 1px 3px 1px rgba(0, 0, 0, 0.15);\n",
              "      filter: drop-shadow(0px 1px 2px rgba(0, 0, 0, 0.3));\n",
              "      fill: #FFFFFF;\n",
              "    }\n",
              "  </style>\n",
              "\n",
              "      <script>\n",
              "        const buttonEl =\n",
              "          document.querySelector('#df-8bc0c058-ae93-41ee-92f7-2474549bae89 button.colab-df-convert');\n",
              "        buttonEl.style.display =\n",
              "          google.colab.kernel.accessAllowed ? 'block' : 'none';\n",
              "\n",
              "        async function convertToInteractive(key) {\n",
              "          const element = document.querySelector('#df-8bc0c058-ae93-41ee-92f7-2474549bae89');\n",
              "          const dataTable =\n",
              "            await google.colab.kernel.invokeFunction('convertToInteractive',\n",
              "                                                     [key], {});\n",
              "          if (!dataTable) return;\n",
              "\n",
              "          const docLinkHtml = 'Like what you see? Visit the ' +\n",
              "            '<a target=\"_blank\" href=https://colab.research.google.com/notebooks/data_table.ipynb>data table notebook</a>'\n",
              "            + ' to learn more about interactive tables.';\n",
              "          element.innerHTML = '';\n",
              "          dataTable['output_type'] = 'display_data';\n",
              "          await google.colab.output.renderOutput(dataTable, element);\n",
              "          const docLink = document.createElement('div');\n",
              "          docLink.innerHTML = docLinkHtml;\n",
              "          element.appendChild(docLink);\n",
              "        }\n",
              "      </script>\n",
              "    </div>\n",
              "  </div>\n",
              "  "
            ]
          },
          "metadata": {},
          "execution_count": 8
        }
      ],
      "source": [
        "# sample submission shape and head\n",
        "print(sample.shape)\n",
        "sample.head()"
      ]
    },
    {
      "cell_type": "markdown",
      "metadata": {
        "id": "4QVGS89gZsRy"
      },
      "source": [
        "# Data Cleaning"
      ]
    },
    {
      "cell_type": "code",
      "execution_count": 9,
      "metadata": {
        "colab": {
          "base_uri": "https://localhost:8080/"
        },
        "id": "us2MWPah8kkW",
        "outputId": "f4318397-1193-4e2a-e6f9-4689e5e45b61"
      },
      "outputs": [
        {
          "output_type": "execute_result",
          "data": {
            "text/plain": [
              "['like for the music video I want some real action shit like burning buildings and police chases not some weak ben winston shit',\n",
              " 'Hellfire! We don\\x89Ûªt even want to think about it or mention it so let\\x89Ûªs not do anything that leads to it #islam!',\n",
              " \"The Prophet (peace be upon him) said 'Save yourself from Hellfire even if it is by giving half a date in charity.'\",\n",
              " 'In #islam saving a person is equal in reward to saving all humans! Islam is the opposite of terrorism!',\n",
              " 'To fight bioterrorism sir.',\n",
              " 'Who is bringing the tornadoes and floods. Who is bringing the climate change. God is after America He is plaguing her\\n \\n#FARRAKHAN #QUOTE',\n",
              " '#foodscare #offers2go #NestleIndia slips into loss after #Magginoodle #ban unsafe and hazardous for #humanconsumption',\n",
              " '#Allah describes piling up #wealth thinking it would last #forever as the description of the people of #Hellfire in Surah Humaza. #Reflect',\n",
              " 'He came to a land which was engulfed in tribal war and turned it into a land of peace i.e. Madinah. #ProphetMuhammad #islam',\n",
              " 'RT NotExplained: The only known image of infamous hijacker D.B. Cooper. http://t.co/JlzK2HdeTG',\n",
              " 'Hellfire is surrounded by desires so be careful and don\\x89Ûªt let your desires control you! #Afterlife',\n",
              " 'CLEARED:incident with injury:I-495  inner loop Exit 31 - MD 97/Georgia Ave Silver Spring',\n",
              " \"Mmmmmm I'm burning.... I'm burning buildings I'm building.... Oooooohhhh oooh ooh...\",\n",
              " 'wowo--=== 12000 Nigerian refugees repatriated from Cameroon',\n",
              " '.POTUS #StrategicPatience is a strategy for #Genocide; refugees; IDP Internally displaced people; horror; etc. https://t.co/rqWuoy1fm4',\n",
              " 'Caution: breathing may be hazardous to your health.',\n",
              " 'I Pledge Allegiance To The P.O.P.E. And The Burning Buildings of Epic City. ??????',\n",
              " 'that horrible sinking feeling when you\\x89Ûªve been at home on your phone for a while and you realise its been on 3G this whole time']"
            ]
          },
          "metadata": {},
          "execution_count": 9
        }
      ],
      "source": [
        "# check if there is mislabeled text\n",
        "df_mislabeled = train.groupby(['text']).nunique().sort_values(by = 'target', ascending = False)\n",
        "df_mislabeled = df_mislabeled[df_mislabeled.target > 1]['target'].index.tolist()\n",
        "df_mislabeled"
      ]
    },
    {
      "cell_type": "code",
      "execution_count": 10,
      "metadata": {
        "colab": {
          "base_uri": "https://localhost:8080/"
        },
        "id": "dQa4YloY9CbD",
        "outputId": "daab72ed-6a61-4626-d7bd-847c849c92b4"
      },
      "outputs": [
        {
          "output_type": "stream",
          "name": "stdout",
          "text": [
            "                                                   text  target\n",
            "1221  like for the music video I want some real acti...       1\n",
            "1349  like for the music video I want some real acti...       0\n",
            "                                                   text  target\n",
            "4306  Hellfire! We donÛªt even want to think about ...       0\n",
            "4320  Hellfire! We donÛªt even want to think about ...       1\n",
            "                                                   text  target\n",
            "4284  The Prophet (peace be upon him) said 'Save you...       0\n",
            "4286  The Prophet (peace be upon him) said 'Save you...       0\n",
            "4292  The Prophet (peace be upon him) said 'Save you...       1\n",
            "4304  The Prophet (peace be upon him) said 'Save you...       0\n",
            "4309  The Prophet (peace be upon him) said 'Save you...       0\n",
            "4318  The Prophet (peace be upon him) said 'Save you...       1\n",
            "                                                   text  target\n",
            "6614  In #islam saving a person is equal in reward t...       0\n",
            "6616  In #islam saving a person is equal in reward t...       1\n",
            "                           text  target\n",
            "610  To fight bioterrorism sir.       1\n",
            "624  To fight bioterrorism sir.       0\n",
            "630  To fight bioterrorism sir.       1\n",
            "634  To fight bioterrorism sir.       0\n",
            "                                                   text  target\n",
            "3985  Who is bringing the tornadoes and floods. Who ...       1\n",
            "4013  Who is bringing the tornadoes and floods. Who ...       0\n",
            "4019  Who is bringing the tornadoes and floods. Who ...       0\n",
            "                                                   text  target\n",
            "4221  #foodscare #offers2go #NestleIndia slips into ...       1\n",
            "4239  #foodscare #offers2go #NestleIndia slips into ...       1\n",
            "4244  #foodscare #offers2go #NestleIndia slips into ...       0\n",
            "                                                   text  target\n",
            "4290  #Allah describes piling up #wealth thinking it...       0\n",
            "4299  #Allah describes piling up #wealth thinking it...       0\n",
            "4312  #Allah describes piling up #wealth thinking it...       1\n",
            "                                                   text  target\n",
            "3240  He came to a land which was engulfed in tribal...       0\n",
            "3243  He came to a land which was engulfed in tribal...       1\n",
            "3248  He came to a land which was engulfed in tribal...       1\n",
            "3251  He came to a land which was engulfed in tribal...       0\n",
            "3261  He came to a land which was engulfed in tribal...       0\n",
            "3266  He came to a land which was engulfed in tribal...       0\n",
            "                                                   text  target\n",
            "4379  RT NotExplained: The only known image of infam...       0\n",
            "4381  RT NotExplained: The only known image of infam...       1\n",
            "                                                   text  target\n",
            "4285  Hellfire is surrounded by desires so be carefu...       0\n",
            "4305  Hellfire is surrounded by desires so be carefu...       1\n",
            "4313  Hellfire is surrounded by desires so be carefu...       0\n",
            "                                                   text  target\n",
            "4597  CLEARED:incident with injury:I-495  inner loop...       1\n",
            "4605  CLEARED:incident with injury:I-495  inner loop...       1\n",
            "4618  CLEARED:incident with injury:I-495  inner loop...       0\n",
            "                                                   text  target\n",
            "1197  Mmmmmm I'm burning.... I'm burning buildings I...       1\n",
            "1331  Mmmmmm I'm burning.... I'm burning buildings I...       0\n",
            "                                                   text  target\n",
            "5620  wowo--=== 12000 Nigerian refugees repatriated ...       1\n",
            "5641  wowo--=== 12000 Nigerian refugees repatriated ...       0\n",
            "                                                   text  target\n",
            "2830  .POTUS #StrategicPatience is a strategy for #G...       1\n",
            "2831  .POTUS #StrategicPatience is a strategy for #G...       1\n",
            "2832  .POTUS #StrategicPatience is a strategy for #G...       0\n",
            "2833  .POTUS #StrategicPatience is a strategy for #G...       1\n",
            "                                                   text  target\n",
            "4232  Caution: breathing may be hazardous to your he...       1\n",
            "4235  Caution: breathing may be hazardous to your he...       0\n",
            "                                                   text  target\n",
            "1214  I Pledge Allegiance To The P.O.P.E. And The Bu...       0\n",
            "1365  I Pledge Allegiance To The P.O.P.E. And The Bu...       1\n",
            "                                                   text  target\n",
            "6091  that horrible sinking feeling when youÛªve be...       1\n",
            "6094  that horrible sinking feeling when youÛªve be...       0\n",
            "6103  that horrible sinking feeling when youÛªve be...       0\n",
            "6123  that horrible sinking feeling when youÛªve be...       1\n"
          ]
        }
      ],
      "source": [
        "# print the mislabeled text and target\n",
        "for tweet in df_mislabeled:\n",
        "    print(train[train.text == tweet][['text', 'target']])"
      ]
    },
    {
      "cell_type": "code",
      "execution_count": 11,
      "metadata": {
        "id": "H6UpBBDh9bXL"
      },
      "outputs": [],
      "source": [
        "# correct the target\n",
        "train['new_target'] = train.target\n",
        "train.loc[train.text == df_mislabeled[0], 'new_target'] = 0\n",
        "train.loc[train.text == df_mislabeled[1], 'new_target'] = 0\n",
        "train.loc[train.text == df_mislabeled[2], 'new_target'] = 0\n",
        "train.loc[train.text == df_mislabeled[3], 'new_target'] = 0\n",
        "train.loc[train.text == df_mislabeled[4], 'new_target'] = 0\n",
        "train.loc[train.text == df_mislabeled[5], 'new_target'] = 0\n",
        "train.loc[train.text == df_mislabeled[6], 'new_target'] = 0\n",
        "train.loc[train.text == df_mislabeled[7], 'new_target'] = 0\n",
        "train.loc[train.text == df_mislabeled[8], 'new_target'] = 0\n",
        "train.loc[train.text == df_mislabeled[9], 'new_target'] = 1\n",
        "train.loc[train.text == df_mislabeled[10], 'new_target'] = 0\n",
        "train.loc[train.text == df_mislabeled[11], 'new_target'] = 1\n",
        "train.loc[train.text == df_mislabeled[12], 'new_target'] = 0\n",
        "train.loc[train.text == df_mislabeled[13], 'new_target'] = 0\n",
        "train.loc[train.text == df_mislabeled[14], 'new_target'] = 1\n",
        "train.loc[train.text == df_mislabeled[15], 'new_target'] = 1\n",
        "train.loc[train.text == df_mislabeled[16], 'new_target'] = 0\n",
        "train.loc[train.text == df_mislabeled[17], 'new_target'] = 0"
      ]
    },
    {
      "cell_type": "code",
      "execution_count": 12,
      "metadata": {
        "colab": {
          "base_uri": "https://localhost:8080/"
        },
        "id": "I6QFt67V9iWn",
        "outputId": "e1e369a2-df5f-4e34-c096-ca479ed26953"
      },
      "outputs": [
        {
          "output_type": "stream",
          "name": "stdout",
          "text": [
            "                                                   text  new_target\n",
            "1221  like for the music video I want some real acti...           0\n",
            "1349  like for the music video I want some real acti...           0\n",
            "                                                   text  new_target\n",
            "4306  Hellfire! We donÛªt even want to think about ...           0\n",
            "4320  Hellfire! We donÛªt even want to think about ...           0\n",
            "                                                   text  new_target\n",
            "4284  The Prophet (peace be upon him) said 'Save you...           0\n",
            "4286  The Prophet (peace be upon him) said 'Save you...           0\n",
            "4292  The Prophet (peace be upon him) said 'Save you...           0\n",
            "4304  The Prophet (peace be upon him) said 'Save you...           0\n",
            "4309  The Prophet (peace be upon him) said 'Save you...           0\n",
            "4318  The Prophet (peace be upon him) said 'Save you...           0\n",
            "                                                   text  new_target\n",
            "6614  In #islam saving a person is equal in reward t...           0\n",
            "6616  In #islam saving a person is equal in reward t...           0\n",
            "                           text  new_target\n",
            "610  To fight bioterrorism sir.           0\n",
            "624  To fight bioterrorism sir.           0\n",
            "630  To fight bioterrorism sir.           0\n",
            "634  To fight bioterrorism sir.           0\n",
            "                                                   text  new_target\n",
            "3985  Who is bringing the tornadoes and floods. Who ...           0\n",
            "4013  Who is bringing the tornadoes and floods. Who ...           0\n",
            "4019  Who is bringing the tornadoes and floods. Who ...           0\n",
            "                                                   text  new_target\n",
            "4221  #foodscare #offers2go #NestleIndia slips into ...           0\n",
            "4239  #foodscare #offers2go #NestleIndia slips into ...           0\n",
            "4244  #foodscare #offers2go #NestleIndia slips into ...           0\n",
            "                                                   text  new_target\n",
            "4290  #Allah describes piling up #wealth thinking it...           0\n",
            "4299  #Allah describes piling up #wealth thinking it...           0\n",
            "4312  #Allah describes piling up #wealth thinking it...           0\n",
            "                                                   text  new_target\n",
            "3240  He came to a land which was engulfed in tribal...           0\n",
            "3243  He came to a land which was engulfed in tribal...           0\n",
            "3248  He came to a land which was engulfed in tribal...           0\n",
            "3251  He came to a land which was engulfed in tribal...           0\n",
            "3261  He came to a land which was engulfed in tribal...           0\n",
            "3266  He came to a land which was engulfed in tribal...           0\n",
            "                                                   text  new_target\n",
            "4379  RT NotExplained: The only known image of infam...           1\n",
            "4381  RT NotExplained: The only known image of infam...           1\n",
            "                                                   text  new_target\n",
            "4285  Hellfire is surrounded by desires so be carefu...           0\n",
            "4305  Hellfire is surrounded by desires so be carefu...           0\n",
            "4313  Hellfire is surrounded by desires so be carefu...           0\n",
            "                                                   text  new_target\n",
            "4597  CLEARED:incident with injury:I-495  inner loop...           1\n",
            "4605  CLEARED:incident with injury:I-495  inner loop...           1\n",
            "4618  CLEARED:incident with injury:I-495  inner loop...           1\n",
            "                                                   text  new_target\n",
            "1197  Mmmmmm I'm burning.... I'm burning buildings I...           0\n",
            "1331  Mmmmmm I'm burning.... I'm burning buildings I...           0\n",
            "                                                   text  new_target\n",
            "5620  wowo--=== 12000 Nigerian refugees repatriated ...           0\n",
            "5641  wowo--=== 12000 Nigerian refugees repatriated ...           0\n",
            "                                                   text  new_target\n",
            "2830  .POTUS #StrategicPatience is a strategy for #G...           1\n",
            "2831  .POTUS #StrategicPatience is a strategy for #G...           1\n",
            "2832  .POTUS #StrategicPatience is a strategy for #G...           1\n",
            "2833  .POTUS #StrategicPatience is a strategy for #G...           1\n",
            "                                                   text  new_target\n",
            "4232  Caution: breathing may be hazardous to your he...           1\n",
            "4235  Caution: breathing may be hazardous to your he...           1\n",
            "                                                   text  new_target\n",
            "1214  I Pledge Allegiance To The P.O.P.E. And The Bu...           0\n",
            "1365  I Pledge Allegiance To The P.O.P.E. And The Bu...           0\n",
            "                                                   text  new_target\n",
            "6091  that horrible sinking feeling when youÛªve be...           0\n",
            "6094  that horrible sinking feeling when youÛªve be...           0\n",
            "6103  that horrible sinking feeling when youÛªve be...           0\n",
            "6123  that horrible sinking feeling when youÛªve be...           0\n"
          ]
        }
      ],
      "source": [
        "# check if they are all correctly labeled now\n",
        "for tweet in df_mislabeled:\n",
        "    print(train[train.text == tweet][['text','new_target']])"
      ]
    },
    {
      "cell_type": "markdown",
      "metadata": {
        "id": "2YAHjqfO-LZ3"
      },
      "source": [
        "# Data Preprocessing"
      ]
    },
    {
      "cell_type": "code",
      "execution_count": 13,
      "metadata": {
        "id": "fBoP1RNI1Ai7"
      },
      "outputs": [],
      "source": [
        "# This function processes the sentence so that it can be used to produce meaningful embeddings\n",
        "def processSentence(text):\n",
        "\n",
        "    # Lowercasing\n",
        "    text = text.lower()\n",
        "\n",
        "    # Removing HTML tags\n",
        "    text = re.sub(r'<.*?>', '', text)\n",
        "\n",
        "    # Removing urls\n",
        "    text = re.sub(r'''(?i)\\b((?:https?://|www\\d{0,3}[.]|[a-z0-9.\\-]+[.][a-z]{2,4}/)(?:[^\\s()<>]|\\(([^\\s()<>]|(\\([^\\s()<>]+\\)))*\\))+(?:\\(([^\\s()<>]|(\\([^\\s()<>]+\\)))*\\)|[^\\s`!()\\[\\]{};:'\".,<>?«»“”‘’]))''',\" \",text)\n",
        "    \n",
        "    # Removing email addresses\n",
        "    text = re.sub(r'''\\S*@\\S*\\s?''', \" \", text)\n",
        "\n",
        "    # Removing mentioned users\n",
        "    text = re.sub(r'@\\w+', '', text)\n",
        "\n",
        "    # Removing numbers\n",
        "    text = re.sub(r'\\w*\\d+\\w*', '', text)\n",
        "\n",
        "    # Removing puntuations\n",
        "    text = re.sub(r'[^\\w\\s]', '', text)\n",
        "\n",
        "    # Removing new line characters\n",
        "    text = text.replace('\\\\n', '')\n",
        "    \n",
        "    # Expanding the contractions\n",
        "    text = contractions.fix(text)\n",
        "    \n",
        "    return text"
      ]
    },
    {
      "cell_type": "code",
      "execution_count": 14,
      "metadata": {
        "id": "wN6uBKQr1AlD"
      },
      "outputs": [],
      "source": [
        "# This function processes the text so that it can be used to produce meaningful embeddings\n",
        "def processText(text):\n",
        "    \n",
        "    # Using the line tokenizer to split using new line character (\\n) and discarding the blank lines\n",
        "    if text is not None:\n",
        "        \n",
        "        lines = LineTokenizer(blanklines = 'discard').tokenize(text)\n",
        "        sentences = []\n",
        "\n",
        "        # For each line found above we are doing sentence tokenization\n",
        "        for line in lines:\n",
        "            currentSentences = sent_tokenize(line)\n",
        "            \n",
        "            # sentences.extend([sentence for sentence in currentSentences ])\n",
        "            for sentence in currentSentences:\n",
        "                currentText = str(sentence.encode(\"ascii\", \"ignore\").decode().strip())\n",
        "                sentences.extend([currentText])\n",
        "                text = '. '.join([processSentence(sentence) for sentence in sentences])\n",
        "    return text"
      ]
    },
    {
      "cell_type": "code",
      "execution_count": 15,
      "metadata": {
        "id": "0kDDKp1ozPM0"
      },
      "outputs": [],
      "source": [
        "emojis = [\"\\U0001F600\", \"\\U0001F64F\", \"\\U0001F300\", \"\\U0001F5FF\", \"\\U0001F680\", \"\\U0001F6FF\", \"\\U0001F1E0\", \"\\U0001F1FF\", \"\\U00002702\", \"\\U000027B0\", \"\\U000024C2\", \"\\U0001F251\"]\n",
        "stopWords = nltk.corpus.stopwords.words(\"english\")\n",
        "token = nltk.tokenize.RegexpTokenizer(r\"\\w+\")\n",
        "lemmatizer = nltk.stem.WordNetLemmatizer()"
      ]
    },
    {
      "cell_type": "code",
      "execution_count": 16,
      "metadata": {
        "id": "SM3nTYx4zSeC"
      },
      "outputs": [],
      "source": [
        "# cleaner for bert\n",
        "def cleaner(DF, labeled=True, stopWrds=True, Lemmatize=True, dropDigits=True, dropSinLet=True, c=\"text\"):\n",
        "    fake = []\n",
        "    real = []\n",
        "    data = []\n",
        "    col = np.where(DF.columns == c)[0][0]\n",
        "    \n",
        "    for i, row in enumerate(DF.iterrows()):\n",
        "\n",
        "        sentence = row[1][col]\n",
        "        sentence = sentence.lower().split(\" \")\n",
        "        sentence = [word for word in sentence if word not in emojis]\n",
        "        sentence = [word for word in sentence if \n",
        "                  \"http\" not in word and \n",
        "                  \"https\" not in word and \n",
        "                  \"@\" not in word]\n",
        "        sentence=[contractions.fix(word) for word in sentence]\n",
        "        sentence=\" \".join(sentence).lower()\n",
        "        sentence=token.tokenize(sentence)\n",
        "        if stopWrds == True:\n",
        "            sentence =[word for word in sentence if word not in stopWords]\n",
        "        if Lemmatize == True:\n",
        "            sentence= [lemmatizer.lemmatize(word) for word in sentence]\n",
        "        sentence = [word.strip() for word in sentence]\n",
        "        if dropDigits == True:\n",
        "            sentence = [word for word in sentence if not re.match(r\"\\S*\\d+\\S*\", word)]\n",
        "        sentence = [word for word in sentence if \n",
        "                  word != \"rt\" and \n",
        "                  word != \"û_\" and \n",
        "                  word != \"amp\" and \n",
        "                  word != \"ûª\" and\n",
        "                  word != \"ûªs\" and\n",
        "                  word != \"ûò\" and\n",
        "                  word != \"åè\" and\n",
        "                  word != \"ìñ1\"] \n",
        "        sentence=[re.sub(r\"(.)\\1{2,}\\B\", r\"\\1\\1\", word) for word in sentence]\n",
        "        sentence=[re.sub(r\"(.)\\1{2,}\\b\", r\"\\1\\1\", word) for word in sentence]\n",
        "        if dropSinLet == True:\n",
        "            sentence=[word for word in sentence if len(word) > 1]\n",
        "        sentence=[word for word in sentence if len(word) < 30]\n",
        "        \n",
        "        if labeled == True:\n",
        "            if row[1][4] == 1:\n",
        "                fake.extend(sentence)\n",
        "            else:\n",
        "                real.extend(sentence)\n",
        "\n",
        "        data.append(\" \".join(sentence))\n",
        "        \n",
        "    return data, fake, real"
      ]
    },
    {
      "cell_type": "code",
      "execution_count": 17,
      "metadata": {
        "colab": {
          "base_uri": "https://localhost:8080/"
        },
        "id": "4QSyff9y1IhV",
        "outputId": "b152cd3a-e959-4775-e60d-76a2e8d5fd87"
      },
      "outputs": [
        {
          "output_type": "execute_result",
          "data": {
            "text/plain": [
              "0    Our Deeds are the Reason of this #earthquake M...\n",
              "1               Forest fire near La Ronge Sask. Canada\n",
              "2    All residents asked to 'shelter in place' are ...\n",
              "3    13,000 people receive #wildfires evacuation or...\n",
              "4    Just got sent this photo from Ruby #Alaska as ...\n",
              "5    #RockyFire Update => California Hwy. 20 closed...\n",
              "6    #flood #disaster Heavy rain causes flash flood...\n",
              "7    I'm on top of the hill and I can see a fire in...\n",
              "8    There's an emergency evacuation happening now ...\n",
              "9    I'm afraid that the tornado is coming to our a...\n",
              "Name: text, dtype: object"
            ]
          },
          "metadata": {},
          "execution_count": 17
        }
      ],
      "source": [
        "# sample original text \n",
        "train['text'][:10]"
      ]
    },
    {
      "cell_type": "code",
      "execution_count": 18,
      "metadata": {
        "id": "j2np2VQh1Ij8"
      },
      "outputs": [],
      "source": [
        "# apply preprocessing on train and test\n",
        "train[\"text\"] = train[\"text\"].apply(processText)\n",
        "test[\"text\"] = test[\"text\"].apply(processText)"
      ]
    },
    {
      "cell_type": "code",
      "execution_count": 19,
      "metadata": {
        "colab": {
          "base_uri": "https://localhost:8080/"
        },
        "id": "A5niSSy31ImB",
        "outputId": "811f50c5-36fb-485b-e801-b1f8033e9c35"
      },
      "outputs": [
        {
          "output_type": "execute_result",
          "data": {
            "text/plain": [
              "0    our deeds are the reason of this earthquake ma...\n",
              "1               forest fire near la ronge sask. canada\n",
              "2    all residents asked to shelter in place are be...\n",
              "3     people receive wildfires evacuation orders in...\n",
              "4    just got sent this photo from ruby alaska as s...\n",
              "5    rockyfire update  california hwy.  closed in b...\n",
              "6    flood disaster heavy rain causes flash floodin...\n",
              "7    i am on top of the hill and i can see a fire i...\n",
              "8    there is an emergency evacuation happening now...\n",
              "9    i am afraid that the tornado is coming to our ...\n",
              "Name: text, dtype: object"
            ]
          },
          "metadata": {},
          "execution_count": 19
        }
      ],
      "source": [
        "# sample text before preprocessing\n",
        "train['text'][:10]"
      ]
    },
    {
      "cell_type": "code",
      "execution_count": 20,
      "metadata": {
        "id": "zcochsO51IoH"
      },
      "outputs": [],
      "source": [
        "# x is text, y is labels\n",
        "X_train = train[\"text\"]\n",
        "X_test = test[\"text\"]\n",
        "y_train = train[[\"new_target\"]].values"
      ]
    },
    {
      "cell_type": "markdown",
      "metadata": {
        "id": "LasEnFHwes7W"
      },
      "source": [
        "# Modeling and Evaluation"
      ]
    },
    {
      "cell_type": "code",
      "execution_count": 21,
      "metadata": {
        "id": "K3vrgg4SAaus"
      },
      "outputs": [],
      "source": [
        "# helper function to calculate recall, precision, and f1 score\n",
        "def recall_m(y_true, y_pred):\n",
        "    true_positives = K.sum(K.round(K.clip(y_true * y_pred, 0, 1)))\n",
        "    possible_positives = K.sum(K.round(K.clip(y_true, 0, 1)))\n",
        "    recall = true_positives / (possible_positives + K.epsilon())\n",
        "    return recall\n",
        "\n",
        "def precision_m(y_true, y_pred):\n",
        "    true_positives = K.sum(K.round(K.clip(y_true * y_pred, 0, 1)))\n",
        "    predicted_positives = K.sum(K.round(K.clip(y_pred, 0, 1)))\n",
        "    precision = true_positives / (predicted_positives + K.epsilon())\n",
        "    return precision\n",
        "\n",
        "def f1_m(y_true, y_pred):\n",
        "    precision = precision_m(y_true, y_pred)\n",
        "    recall = recall_m(y_true, y_pred)\n",
        "    return 2*((precision*recall)/(precision+recall+K.epsilon()))"
      ]
    },
    {
      "cell_type": "markdown",
      "metadata": {
        "id": "AUZRCeUptZtq"
      },
      "source": [
        "## Word2Vec+LSTM"
      ]
    },
    {
      "cell_type": "code",
      "execution_count": 22,
      "metadata": {
        "id": "LqnXJQhN-mXz"
      },
      "outputs": [],
      "source": [
        "# make a copy of train and est\n",
        "train_copy = train.copy()\n",
        "test_copy = test.copy()"
      ]
    },
    {
      "cell_type": "code",
      "execution_count": 23,
      "metadata": {
        "id": "Lems2omlnuhU"
      },
      "outputs": [],
      "source": [
        "# tokenizer\n",
        "tknzr = TweetTokenizer(preserve_case = False, reduce_len = True, strip_handles = True)"
      ]
    },
    {
      "cell_type": "code",
      "execution_count": 24,
      "metadata": {
        "id": "qD7Ep3Usnujs"
      },
      "outputs": [],
      "source": [
        "# convert a string of words into a list of tokens\n",
        "def tokenize_tweets(tokenizer, input_text):\n",
        "    tokens = list(tokenizer.tokenize(input_text))\n",
        "    tokens = [re.sub('[^A-Za-z0-9]+', '', i) for i in tokens]\n",
        "    return tokens"
      ]
    },
    {
      "cell_type": "code",
      "execution_count": 25,
      "metadata": {
        "id": "RGtXJN0t-fcT"
      },
      "outputs": [],
      "source": [
        "# convert to tokens\n",
        "train_copy['tokens'] = train_copy['text']\n",
        "train_copy['tokens'] = train_copy['tokens'].apply(lambda x: tokenize_tweets(tknzr, x))\n",
        "test_copy['tokens'] = test_copy['text'].apply(lambda x: tokenize_tweets(tknzr, x))"
      ]
    },
    {
      "cell_type": "code",
      "execution_count": 26,
      "metadata": {
        "colab": {
          "base_uri": "https://localhost:8080/"
        },
        "id": "s4uN2jVR1Bhh",
        "outputId": "a105ef67-73f4-40b3-937c-1f104eef4f41"
      },
      "outputs": [
        {
          "output_type": "stream",
          "name": "stdout",
          "text": [
            "37\n"
          ]
        }
      ],
      "source": [
        "# max length\n",
        "max_tweet_length = max(train_copy['tokens'].apply(lambda x: len(x)).max(), \n",
        "                       test_copy['tokens'].apply(lambda x: len(x)).max())\n",
        "print(max_tweet_length)"
      ]
    },
    {
      "cell_type": "code",
      "execution_count": 27,
      "metadata": {
        "id": "tGaIG_cgoBf2"
      },
      "outputs": [],
      "source": [
        "# pretrained word2vec\n",
        "word2vec_sample = str(find('models/word2vec_sample/pruned.word2vec.txt'))\n",
        "word2vec_model = gensim.models.KeyedVectors.load_word2vec_format(word2vec_sample, binary = False)"
      ]
    },
    {
      "cell_type": "code",
      "execution_count": 28,
      "metadata": {
        "id": "Bxgn1yO5sqfj"
      },
      "outputs": [],
      "source": [
        "# compute the embedding for every word\n",
        "def vectorize_tokens(data_, vec_model, max_seq, num_features):\n",
        "    data_in = data_.copy()\n",
        "    all_vectors = []\n",
        "\n",
        "    for _, row in data_in.iterrows():\n",
        "        text_vectors = np.zeros((max_seq, num_features))\n",
        "        for i, item in enumerate(row['tokens']):\n",
        "            try:\n",
        "                text_vectors[i, :] = vec_model[item]\n",
        "            except:\n",
        "                continue\n",
        "        all_vectors.append(text_vectors)\n",
        "    \n",
        "    return all_vectors"
      ]
    },
    {
      "cell_type": "code",
      "execution_count": 29,
      "metadata": {
        "id": "8NGANW_Jsqh9"
      },
      "outputs": [],
      "source": [
        "# convert to vectors\n",
        "max_tweet_length = 32\n",
        "features = 300\n",
        "\n",
        "train_copy['vectors'] = vectorize_tokens(data_ = train_copy, \n",
        "                                         vec_model = word2vec_model, \n",
        "                                         max_seq = max_tweet_length, \n",
        "                                         num_features = features)\n",
        "\n",
        "test_copy['vectors'] = vectorize_tokens(data_ = test_copy, \n",
        "                                        vec_model = word2vec_model, \n",
        "                                        max_seq = max_tweet_length, \n",
        "                                        num_features = features)"
      ]
    },
    {
      "cell_type": "code",
      "execution_count": 30,
      "metadata": {
        "id": "092YVoomsqkA"
      },
      "outputs": [],
      "source": [
        "# 3D array of text_count, max_sequence_length, embedding_size\n",
        "X = np.asarray(train_copy['vectors'].tolist()).astype(np.float32)\n",
        "y = np.asarray(train_copy['new_target'].tolist()).astype(np.float32)\n",
        "test_array = np.asarray(test_copy['vectors'].tolist()).astype(np.float32)"
      ]
    },
    {
      "cell_type": "code",
      "execution_count": 31,
      "metadata": {
        "id": "4tbyGkGDsqmY"
      },
      "outputs": [],
      "source": [
        "# model\n",
        "lstm_model = Sequential([Input(shape = (max_tweet_length, features)),\n",
        "                         Masking(),\n",
        "                         LSTM(units = 32),\n",
        "                         Dropout(0.1),\n",
        "                         Dense(units = 1, activation = 'sigmoid')])\n",
        "\n",
        "# compile\n",
        "lstm_model.compile(optimizer = 'adam', loss = 'binary_crossentropy', metrics = ['accuracy', f1_m])"
      ]
    },
    {
      "cell_type": "code",
      "execution_count": 32,
      "metadata": {
        "colab": {
          "base_uri": "https://localhost:8080/"
        },
        "id": "SjCZDF1Usqoc",
        "outputId": "bd997bd8-28eb-420d-d134-ae421019f8d4"
      },
      "outputs": [
        {
          "output_type": "stream",
          "name": "stdout",
          "text": [
            "Model: \"sequential\"\n",
            "_________________________________________________________________\n",
            " Layer (type)                Output Shape              Param #   \n",
            "=================================================================\n",
            " masking (Masking)           (None, 32, 300)           0         \n",
            "                                                                 \n",
            " lstm (LSTM)                 (None, 32)                42624     \n",
            "                                                                 \n",
            " dropout (Dropout)           (None, 32)                0         \n",
            "                                                                 \n",
            " dense (Dense)               (None, 1)                 33        \n",
            "                                                                 \n",
            "=================================================================\n",
            "Total params: 42,657\n",
            "Trainable params: 42,657\n",
            "Non-trainable params: 0\n",
            "_________________________________________________________________\n"
          ]
        }
      ],
      "source": [
        "lstm_model.summary()"
      ]
    },
    {
      "cell_type": "code",
      "execution_count": 33,
      "metadata": {
        "colab": {
          "base_uri": "https://localhost:8080/"
        },
        "id": "Y3Hu2ASltl5U",
        "outputId": "650661cb-168e-464c-9c93-a739d4327549"
      },
      "outputs": [
        {
          "output_type": "stream",
          "name": "stdout",
          "text": [
            "Epoch 1/10\n",
            "191/191 [==============================] - 18s 68ms/step - loss: 0.5509 - accuracy: 0.7407 - f1_m: 0.6297 - val_loss: 0.4910 - val_accuracy: 0.7610 - val_f1_m: 0.5971\n",
            "Epoch 2/10\n",
            "191/191 [==============================] - 12s 62ms/step - loss: 0.4720 - accuracy: 0.7947 - f1_m: 0.7254 - val_loss: 0.4654 - val_accuracy: 0.7853 - val_f1_m: 0.6446\n",
            "Epoch 3/10\n",
            "191/191 [==============================] - 12s 61ms/step - loss: 0.4488 - accuracy: 0.8020 - f1_m: 0.7370 - val_loss: 0.4669 - val_accuracy: 0.7879 - val_f1_m: 0.6229\n",
            "Epoch 4/10\n",
            "191/191 [==============================] - 12s 61ms/step - loss: 0.4357 - accuracy: 0.8085 - f1_m: 0.7453 - val_loss: 0.4599 - val_accuracy: 0.7833 - val_f1_m: 0.6313\n",
            "Epoch 5/10\n",
            "191/191 [==============================] - 12s 63ms/step - loss: 0.4224 - accuracy: 0.8169 - f1_m: 0.7532 - val_loss: 0.4571 - val_accuracy: 0.7886 - val_f1_m: 0.6381\n",
            "Epoch 6/10\n",
            "191/191 [==============================] - 12s 62ms/step - loss: 0.4108 - accuracy: 0.8210 - f1_m: 0.7592 - val_loss: 0.4725 - val_accuracy: 0.7892 - val_f1_m: 0.6528\n",
            "Epoch 7/10\n",
            "191/191 [==============================] - 12s 62ms/step - loss: 0.4051 - accuracy: 0.8241 - f1_m: 0.7652 - val_loss: 0.4927 - val_accuracy: 0.7800 - val_f1_m: 0.6595\n",
            "Epoch 8/10\n",
            "191/191 [==============================] - 12s 61ms/step - loss: 0.3925 - accuracy: 0.8292 - f1_m: 0.7693 - val_loss: 0.4906 - val_accuracy: 0.7879 - val_f1_m: 0.6372\n",
            "Epoch 9/10\n",
            "191/191 [==============================] - 12s 61ms/step - loss: 0.3840 - accuracy: 0.8363 - f1_m: 0.7828 - val_loss: 0.4761 - val_accuracy: 0.7866 - val_f1_m: 0.6356\n",
            "Epoch 10/10\n",
            "191/191 [==============================] - 12s 61ms/step - loss: 0.3766 - accuracy: 0.8353 - f1_m: 0.7816 - val_loss: 0.4915 - val_accuracy: 0.7866 - val_f1_m: 0.6371\n"
          ]
        }
      ],
      "source": [
        "# training\n",
        "lstm_history = lstm_model.fit(X, y, validation_split = 0.2, epochs = 10)"
      ]
    },
    {
      "cell_type": "code",
      "execution_count": 34,
      "metadata": {
        "colab": {
          "base_uri": "https://localhost:8080/",
          "height": 301
        },
        "id": "DYnb3eFTsqtG",
        "outputId": "22a96dbf-a24c-46b8-9fa2-ad8d8b9184a9"
      },
      "outputs": [
        {
          "output_type": "execute_result",
          "data": {
            "text/plain": [
              "<matplotlib.legend.Legend at 0x7f52fc46e850>"
            ]
          },
          "metadata": {},
          "execution_count": 34
        },
        {
          "output_type": "display_data",
          "data": {
            "text/plain": [
              "<Figure size 432x288 with 1 Axes>"
            ],
            "image/png": "[encoded data removed]"
          },
          "metadata": {}
        }
      ],
      "source": [
        "plt.plot(lstm_history.history['accuracy'], label='accuracy')\n",
        "plt.plot(lstm_history.history['val_accuracy'], label = 'val_accuracy')\n",
        "plt.xlabel('Epoch')\n",
        "plt.ylabel('Accuracy')\n",
        "plt.ylim([0, 1])\n",
        "plt.legend(loc = 'lower right')"
      ]
    },
    {
      "cell_type": "code",
      "execution_count": 35,
      "metadata": {
        "colab": {
          "base_uri": "https://localhost:8080/",
          "height": 301
        },
        "id": "1bCWUFmlsqv5",
        "outputId": "38237718-7aa4-489f-91a6-ba0e5475aa7f"
      },
      "outputs": [
        {
          "output_type": "execute_result",
          "data": {
            "text/plain": [
              "<matplotlib.legend.Legend at 0x7f52fc3dcfd0>"
            ]
          },
          "metadata": {},
          "execution_count": 35
        },
        {
          "output_type": "display_data",
          "data": {
            "text/plain": [
              "<Figure size 432x288 with 1 Axes>"
            ],
            "image/png": "[encoded data removed]"
          },
          "metadata": {}
        }
      ],
      "source": [
        "plt.plot(lstm_history.history['loss'], label = 'loss')\n",
        "plt.plot(lstm_history.history['val_loss'], label = 'val_loss')\n",
        "plt.xlabel('Epoch')\n",
        "plt.ylabel('Loss')\n",
        "plt.ylim([0, 1])\n",
        "plt.legend(loc = 'lower right')"
      ]
    },
    {
      "cell_type": "code",
      "execution_count": 36,
      "metadata": {
        "colab": {
          "base_uri": "https://localhost:8080/",
          "height": 301
        },
        "id": "SjlxUnH4BeyF",
        "outputId": "35773e8a-1f31-4b2d-b6b3-164c74fa7996"
      },
      "outputs": [
        {
          "output_type": "execute_result",
          "data": {
            "text/plain": [
              "<matplotlib.legend.Legend at 0x7f52fc120e20>"
            ]
          },
          "metadata": {},
          "execution_count": 36
        },
        {
          "output_type": "display_data",
          "data": {
            "text/plain": [
              "<Figure size 432x288 with 1 Axes>"
            ],
            "image/png": "[encoded data removed]"
          },
          "metadata": {}
        }
      ],
      "source": [
        "plt.plot(lstm_history.history['f1_m'], label = 'f1')\n",
        "plt.plot(lstm_history.history['val_f1_m'], label = 'val_f1')\n",
        "plt.xlabel('Epoch')\n",
        "plt.ylabel('F1')\n",
        "plt.ylim([0, 1])\n",
        "plt.legend(loc = 'lower right')"
      ]
    },
    {
      "cell_type": "code",
      "execution_count": 37,
      "metadata": {
        "colab": {
          "base_uri": "https://localhost:8080/"
        },
        "id": "FQUhf1Cfs96I",
        "outputId": "2ccf9e47-ca5f-43d7-8e08-e6d55a3e66d6"
      },
      "outputs": [
        {
          "output_type": "stream",
          "name": "stdout",
          "text": [
            "102/102 [==============================] - 2s 8ms/step\n"
          ]
        }
      ],
      "source": [
        "# predict on testing set\n",
        "y_pred_lstm = lstm_model.predict(test_array, verbose = 1)"
      ]
    },
    {
      "cell_type": "code",
      "execution_count": 38,
      "metadata": {
        "id": "HZguhNeTs96P"
      },
      "outputs": [],
      "source": [
        "# save to sample submission dataframe and save as csv\n",
        "sample[\"target\"] = [1 if i > 0.5 else 0 for i in y_pred_lstm]"
      ]
    },
    {
      "cell_type": "code",
      "execution_count": 39,
      "metadata": {
        "id": "WNGIx2GMs96P"
      },
      "outputs": [],
      "source": [
        "sample.to_csv('Submission_lstm.csv', index = False)"
      ]
    },
    {
      "cell_type": "markdown",
      "metadata": {
        "id": "bmkvse0uua9r"
      },
      "source": [
        "## Glove+biLSTM"
      ]
    },
    {
      "cell_type": "code",
      "execution_count": 40,
      "metadata": {
        "id": "U_0vta_r1Nje"
      },
      "outputs": [],
      "source": [
        "# tokenize both train and test\n",
        "max_features = 10000\n",
        "tok = text.Tokenizer(num_words = max_features, lower = True)\n",
        "tok.fit_on_texts(list(X_train) + list(X_test))\n",
        "X_train = tok.texts_to_sequences(X_train)\n",
        "X_test = tok.texts_to_sequences(X_test)"
      ]
    },
    {
      "cell_type": "code",
      "execution_count": 41,
      "metadata": {
        "colab": {
          "base_uri": "https://localhost:8080/"
        },
        "id": "KywB1Jbt1Nn2",
        "outputId": "e96beb4b-8a48-4636-b4af-3ef9f72ab65d"
      },
      "outputs": [
        {
          "output_type": "stream",
          "name": "stdout",
          "text": [
            "Word counts:  17829\n",
            "X train max length:  32\n",
            "X test max length:  32\n"
          ]
        }
      ],
      "source": [
        "# check word counts and sequence length distribution\n",
        "print('Word counts: ', len(tok.word_counts))\n",
        "\n",
        "X_train_lengths = [len(s) for s in X_train]\n",
        "print('X train max length: ', np.max(X_train_lengths))\n",
        "\n",
        "X_test_lengths = [len(s) for s in X_test]\n",
        "print('X test max length: ', np.max(X_test_lengths))"
      ]
    },
    {
      "cell_type": "code",
      "execution_count": 42,
      "metadata": {
        "id": "WY55coYp1Np9"
      },
      "outputs": [],
      "source": [
        "# set max length for padding\n",
        "maxlen = 32\n",
        "x_train = tf.keras.preprocessing.sequence.pad_sequences(X_train, maxlen = maxlen)\n",
        "x_test = tf.keras.preprocessing.sequence.pad_sequences(X_test, maxlen = maxlen)"
      ]
    },
    {
      "cell_type": "code",
      "execution_count": 43,
      "metadata": {
        "id": "Ph8ujn_71VMM"
      },
      "outputs": [],
      "source": [
        "# unzip embedding file\n",
        "zipRef = zipfile.ZipFile('glove.840B.300d.zip','r')\n",
        "zipRef.extractall()\n",
        "zipRef.close()"
      ]
    },
    {
      "cell_type": "code",
      "execution_count": 44,
      "metadata": {
        "id": "6xjWB0O31VOC"
      },
      "outputs": [],
      "source": [
        "# create embedding index using embedding file\n",
        "embedding_index = dict()\n",
        "\n",
        "with open(os.path.join('glove.840B.300d.txt'), encoding = 'utf8') as f:\n",
        "    for line in f:\n",
        "        tokens = line.rstrip().rsplit(' ')\n",
        "        word = tokens[0]\n",
        "        vector = np.asarray(tokens[1:], dtype = 'float32')\n",
        "        embedding_index[word] = vector"
      ]
    },
    {
      "cell_type": "code",
      "execution_count": 45,
      "metadata": {
        "colab": {
          "base_uri": "https://localhost:8080/"
        },
        "id": "pJNYY79b1VQe",
        "outputId": "991726eb-3c45-4194-fc77-9592a6cad337"
      },
      "outputs": [
        {
          "output_type": "stream",
          "name": "stdout",
          "text": [
            "Total embedding vectors:  2196016\n",
            "Size of embedding vector:  300\n"
          ]
        }
      ],
      "source": [
        "# check embedding size\n",
        "embedding_size = len(embedding_index['world'])\n",
        "\n",
        "print('Total embedding vectors: ', len(embedding_index))\n",
        "print('Size of embedding vector: ', embedding_size)"
      ]
    },
    {
      "cell_type": "code",
      "execution_count": 46,
      "metadata": {
        "id": "2xBDpTOL1aja"
      },
      "outputs": [],
      "source": [
        "# prepare embedding matrix\n",
        "embed_size = 300\n",
        "word_index = tok.word_index\n",
        "\n",
        "num_words = min(max_features, len(word_index) + 1)\n",
        "embedding_matrix = np.zeros((num_words, embed_size))\n",
        "\n",
        "for word, idx in word_index.items():\n",
        "\n",
        "    if idx >= max_features:\n",
        "        continue\n",
        "    embedding_vector = embedding_index.get(word)\n",
        "\n",
        "    if embedding_vector is not None:\n",
        "        embedding_matrix[idx] = embedding_vector"
      ]
    },
    {
      "cell_type": "code",
      "execution_count": 47,
      "metadata": {
        "colab": {
          "base_uri": "https://localhost:8080/"
        },
        "id": "_WYfgkWm1alv",
        "outputId": "5be99cbe-c40b-4efe-d066-094097c6cd40"
      },
      "outputs": [
        {
          "output_type": "stream",
          "name": "stderr",
          "text": [
            "WARNING:tensorflow:Layer lstm_1 will not use cuDNN kernels since it doesn't meet the criteria. It will use a generic GPU kernel as fallback when running on GPU.\n",
            "WARNING:tensorflow:Layer lstm_1 will not use cuDNN kernels since it doesn't meet the criteria. It will use a generic GPU kernel as fallback when running on GPU.\n",
            "WARNING:tensorflow:Layer lstm_1 will not use cuDNN kernels since it doesn't meet the criteria. It will use a generic GPU kernel as fallback when running on GPU.\n",
            "WARNING:tensorflow:Layer lstm_2 will not use cuDNN kernels since it doesn't meet the criteria. It will use a generic GPU kernel as fallback when running on GPU.\n",
            "WARNING:tensorflow:Layer lstm_2 will not use cuDNN kernels since it doesn't meet the criteria. It will use a generic GPU kernel as fallback when running on GPU.\n",
            "WARNING:tensorflow:Layer lstm_2 will not use cuDNN kernels since it doesn't meet the criteria. It will use a generic GPU kernel as fallback when running on GPU.\n",
            "/usr/local/lib/python3.8/dist-packages/keras/optimizers/optimizer_v2/adamax.py:95: UserWarning: The `lr` argument is deprecated, use `learning_rate` instead.\n",
            "  super(Adamax, self).__init__(name, **kwargs)\n"
          ]
        }
      ],
      "source": [
        "# model building\n",
        "input = Input(shape = (maxlen, ))\n",
        "x = Embedding(max_features, \n",
        "              embed_size, \n",
        "              weights = [embedding_matrix], \n",
        "              trainable = False)(input)\n",
        "x = Dropout(0.3)(x)\n",
        "x = Bidirectional(LSTM(units = 16,\n",
        "                       activation = 'tanh',\n",
        "                       return_sequences = True,\n",
        "                       stateful = False,\n",
        "                       recurrent_dropout = 0.4,\n",
        "                       dropout = 0.4))(x)\n",
        "x = Bidirectional(LSTM(units = 8,\n",
        "                       activation ='tanh',\n",
        "                       return_sequences = False,\n",
        "                       stateful = False,\n",
        "                       recurrent_dropout = 0.3,\n",
        "                       dropout = 0.3))(x)\n",
        "output = Dense(units = 1, \n",
        "               activation = \"sigmoid\")(x)\n",
        "\n",
        "bilstm_model = Model(input, output)\n",
        "\n",
        "# compile\n",
        "bilstm_model.compile(loss = 'binary_crossentropy',\n",
        "              optimizer = Adamax(lr = 0.01, decay = 0.0005, clipvalue = 10), \n",
        "              metrics = ['accuracy', f1_m])"
      ]
    },
    {
      "cell_type": "code",
      "execution_count": 48,
      "metadata": {
        "colab": {
          "base_uri": "https://localhost:8080/"
        },
        "id": "lKo4wIux1an1",
        "outputId": "10407496-6af1-4060-efe5-10704707709f"
      },
      "outputs": [
        {
          "output_type": "stream",
          "name": "stdout",
          "text": [
            "Model: \"model\"\n",
            "_________________________________________________________________\n",
            " Layer (type)                Output Shape              Param #   \n",
            "=================================================================\n",
            " input_2 (InputLayer)        [(None, 32)]              0         \n",
            "                                                                 \n",
            " embedding (Embedding)       (None, 32, 300)           3000000   \n",
            "                                                                 \n",
            " dropout_1 (Dropout)         (None, 32, 300)           0         \n",
            "                                                                 \n",
            " bidirectional (Bidirectiona  (None, 32, 32)           40576     \n",
            " l)                                                              \n",
            "                                                                 \n",
            " bidirectional_1 (Bidirectio  (None, 16)               2624      \n",
            " nal)                                                            \n",
            "                                                                 \n",
            " dense_1 (Dense)             (None, 1)                 17        \n",
            "                                                                 \n",
            "=================================================================\n",
            "Total params: 3,043,217\n",
            "Trainable params: 43,217\n",
            "Non-trainable params: 3,000,000\n",
            "_________________________________________________________________\n"
          ]
        }
      ],
      "source": [
        "bilstm_model.summary()"
      ]
    },
    {
      "cell_type": "code",
      "execution_count": 49,
      "metadata": {
        "id": "n62egvfE1fBF"
      },
      "outputs": [],
      "source": [
        "# train validation split\n",
        "X_t, X_v, y_t, y_v = train_test_split(x_train, y_train, train_size = 0.8, random_state = 2)"
      ]
    },
    {
      "cell_type": "code",
      "execution_count": 50,
      "metadata": {
        "id": "L4w_3gUa1fDa"
      },
      "outputs": [],
      "source": [
        "# define parameters and file path\n",
        "batch_size = 128\n",
        "epochs = 10\n",
        "filepath = \"weights_base.best.hdf5\"\n",
        "\n",
        "checkpoint = ModelCheckpoint(filepath, \n",
        "                             monitor = 'val_f1_m', \n",
        "                             verbose = 1, \n",
        "                             save_best_only = True, \n",
        "                             mode = 'max')\n",
        "\n",
        "early = EarlyStopping(monitor = \"val_f1_m\", \n",
        "                      mode = \"max\", \n",
        "                      patience = 5)\n",
        "\n",
        "callbacks_list = [checkpoint, early]"
      ]
    },
    {
      "cell_type": "code",
      "execution_count": 51,
      "metadata": {
        "colab": {
          "base_uri": "https://localhost:8080/"
        },
        "id": "ZKIbLK1WEVop",
        "outputId": "9046d290-34a2-4c3e-9b4f-c2f56df20f58"
      },
      "outputs": [
        {
          "output_type": "stream",
          "name": "stdout",
          "text": [
            "Epoch 1/10\n",
            "48/48 [==============================] - ETA: 0s - loss: 0.5228 - accuracy: 0.7524 - f1_m: 0.6483\n",
            "Epoch 1: val_f1_m improved from -inf to 0.72870, saving model to weights_base.best.hdf5\n",
            "48/48 [==============================] - 28s 388ms/step - loss: 0.5228 - accuracy: 0.7524 - f1_m: 0.6483 - val_loss: 0.4424 - val_accuracy: 0.7991 - val_f1_m: 0.7287\n",
            "Epoch 2/10\n",
            "48/48 [==============================] - ETA: 0s - loss: 0.4538 - accuracy: 0.7957 - f1_m: 0.7379\n",
            "Epoch 2: val_f1_m improved from 0.72870 to 0.77029, saving model to weights_base.best.hdf5\n",
            "48/48 [==============================] - 17s 364ms/step - loss: 0.4538 - accuracy: 0.7957 - f1_m: 0.7379 - val_loss: 0.4252 - val_accuracy: 0.8004 - val_f1_m: 0.7703\n",
            "Epoch 3/10\n",
            "48/48 [==============================] - ETA: 0s - loss: 0.4325 - accuracy: 0.8062 - f1_m: 0.7546\n",
            "Epoch 3: val_f1_m improved from 0.77029 to 0.77638, saving model to weights_base.best.hdf5\n",
            "48/48 [==============================] - 17s 361ms/step - loss: 0.4325 - accuracy: 0.8062 - f1_m: 0.7546 - val_loss: 0.4057 - val_accuracy: 0.8306 - val_f1_m: 0.7764\n",
            "Epoch 4/10\n",
            "48/48 [==============================] - ETA: 0s - loss: 0.4244 - accuracy: 0.8094 - f1_m: 0.7540\n",
            "Epoch 4: val_f1_m did not improve from 0.77638\n",
            "48/48 [==============================] - 17s 361ms/step - loss: 0.4244 - accuracy: 0.8094 - f1_m: 0.7540 - val_loss: 0.4056 - val_accuracy: 0.8267 - val_f1_m: 0.7746\n",
            "Epoch 5/10\n",
            "48/48 [==============================] - ETA: 0s - loss: 0.4146 - accuracy: 0.8161 - f1_m: 0.7626\n",
            "Epoch 5: val_f1_m improved from 0.77638 to 0.78554, saving model to weights_base.best.hdf5\n",
            "48/48 [==============================] - 18s 370ms/step - loss: 0.4146 - accuracy: 0.8161 - f1_m: 0.7626 - val_loss: 0.4058 - val_accuracy: 0.8234 - val_f1_m: 0.7855\n",
            "Epoch 6/10\n",
            "48/48 [==============================] - ETA: 0s - loss: 0.4035 - accuracy: 0.8250 - f1_m: 0.7777\n",
            "Epoch 6: val_f1_m improved from 0.78554 to 0.78584, saving model to weights_base.best.hdf5\n",
            "48/48 [==============================] - 18s 371ms/step - loss: 0.4035 - accuracy: 0.8250 - f1_m: 0.7777 - val_loss: 0.4037 - val_accuracy: 0.8306 - val_f1_m: 0.7858\n",
            "Epoch 7/10\n",
            "48/48 [==============================] - ETA: 0s - loss: 0.4000 - accuracy: 0.8248 - f1_m: 0.7760\n",
            "Epoch 7: val_f1_m did not improve from 0.78584\n",
            "48/48 [==============================] - 18s 368ms/step - loss: 0.4000 - accuracy: 0.8248 - f1_m: 0.7760 - val_loss: 0.4051 - val_accuracy: 0.8332 - val_f1_m: 0.7825\n",
            "Epoch 8/10\n",
            "48/48 [==============================] - ETA: 0s - loss: 0.3886 - accuracy: 0.8320 - f1_m: 0.7853\n",
            "Epoch 8: val_f1_m improved from 0.78584 to 0.78625, saving model to weights_base.best.hdf5\n",
            "48/48 [==============================] - 18s 370ms/step - loss: 0.3886 - accuracy: 0.8320 - f1_m: 0.7853 - val_loss: 0.4143 - val_accuracy: 0.8273 - val_f1_m: 0.7862\n",
            "Epoch 9/10\n",
            "48/48 [==============================] - ETA: 0s - loss: 0.3822 - accuracy: 0.8332 - f1_m: 0.7885\n",
            "Epoch 9: val_f1_m did not improve from 0.78625\n",
            "48/48 [==============================] - 17s 364ms/step - loss: 0.3822 - accuracy: 0.8332 - f1_m: 0.7885 - val_loss: 0.4088 - val_accuracy: 0.8267 - val_f1_m: 0.7813\n",
            "Epoch 10/10\n",
            "48/48 [==============================] - ETA: 0s - loss: 0.3743 - accuracy: 0.8340 - f1_m: 0.7882\n",
            "Epoch 10: val_f1_m did not improve from 0.78625\n",
            "48/48 [==============================] - 18s 368ms/step - loss: 0.3743 - accuracy: 0.8340 - f1_m: 0.7882 - val_loss: 0.4132 - val_accuracy: 0.8286 - val_f1_m: 0.7817\n"
          ]
        }
      ],
      "source": [
        "# model training\n",
        "bilstm_history = bilstm_model.fit(X_t, y_t, \n",
        "                                  batch_size = batch_size, \n",
        "                                  epochs = epochs, \n",
        "                                  validation_data = (X_v, y_v), \n",
        "                                  callbacks = callbacks_list, \n",
        "                                  verbose = 1)"
      ]
    },
    {
      "cell_type": "code",
      "execution_count": 52,
      "metadata": {
        "colab": {
          "base_uri": "https://localhost:8080/",
          "height": 301
        },
        "id": "2iCMaDw3wOhw",
        "outputId": "097d129e-4ffc-43a1-e9ce-ba7990bd1aa2"
      },
      "outputs": [
        {
          "output_type": "execute_result",
          "data": {
            "text/plain": [
              "<matplotlib.legend.Legend at 0x7f52869161c0>"
            ]
          },
          "metadata": {},
          "execution_count": 52
        },
        {
          "output_type": "display_data",
          "data": {
            "text/plain": [
              "<Figure size 432x288 with 1 Axes>"
            ],
            "image/png": "[encoded data removed]"
          },
          "metadata": {}
        }
      ],
      "source": [
        "plt.plot(bilstm_history.history['accuracy'], label = 'accuracy')\n",
        "plt.plot(bilstm_history.history['val_accuracy'], label = 'val_accuracy')\n",
        "plt.xlabel('Epoch')\n",
        "plt.ylabel('Accuracy')\n",
        "plt.ylim([0, 1])\n",
        "plt.legend(loc = 'lower right')"
      ]
    },
    {
      "cell_type": "code",
      "execution_count": 53,
      "metadata": {
        "colab": {
          "base_uri": "https://localhost:8080/",
          "height": 301
        },
        "id": "PRg683BLwOh_",
        "outputId": "e46c58d4-3305-4545-a1ff-e7b28eb73ab3"
      },
      "outputs": [
        {
          "output_type": "execute_result",
          "data": {
            "text/plain": [
              "<matplotlib.legend.Legend at 0x7f52e85af0a0>"
            ]
          },
          "metadata": {},
          "execution_count": 53
        },
        {
          "output_type": "display_data",
          "data": {
            "text/plain": [
              "<Figure size 432x288 with 1 Axes>"
            ],
            "image/png": "[encoded data removed]"
          },
          "metadata": {}
        }
      ],
      "source": [
        "plt.plot(bilstm_history.history['loss'], label = 'loss')\n",
        "plt.plot(bilstm_history.history['val_loss'], label = 'val_loss')\n",
        "plt.xlabel('Epoch')\n",
        "plt.ylabel('Loss')\n",
        "plt.ylim([0, 1])\n",
        "plt.legend(loc = 'lower right')"
      ]
    },
    {
      "cell_type": "code",
      "execution_count": 54,
      "metadata": {
        "colab": {
          "base_uri": "https://localhost:8080/",
          "height": 301
        },
        "id": "y9J--ezzFcyJ",
        "outputId": "139fa58b-e069-4760-9bdb-715692a2a15e"
      },
      "outputs": [
        {
          "output_type": "execute_result",
          "data": {
            "text/plain": [
              "<matplotlib.legend.Legend at 0x7f52e8511d00>"
            ]
          },
          "metadata": {},
          "execution_count": 54
        },
        {
          "output_type": "display_data",
          "data": {
            "text/plain": [
              "<Figure size 432x288 with 1 Axes>"
            ],
            "image/png": "[encoded data removed]"
          },
          "metadata": {}
        }
      ],
      "source": [
        "plt.plot(bilstm_history.history['f1_m'], label = 'f1')\n",
        "plt.plot(bilstm_history.history['val_f1_m'], label = 'val_f1')\n",
        "plt.xlabel('Epoch')\n",
        "plt.ylabel('F1')\n",
        "plt.ylim([0, 1])\n",
        "plt.legend(loc = 'lower right')"
      ]
    },
    {
      "cell_type": "code",
      "execution_count": 55,
      "metadata": {
        "id": "YGefkM3o1kCN"
      },
      "outputs": [],
      "source": [
        "# loading best model weights\n",
        "bilstm_model.load_weights(filepath)"
      ]
    },
    {
      "cell_type": "code",
      "execution_count": 56,
      "metadata": {
        "colab": {
          "base_uri": "https://localhost:8080/"
        },
        "id": "gEC7SrZm1kEg",
        "outputId": "a05a92e8-844d-4ba2-e06f-effb9a9bb236"
      },
      "outputs": [
        {
          "output_type": "stream",
          "name": "stdout",
          "text": [
            "4/4 [==============================] - 1s 41ms/step\n"
          ]
        }
      ],
      "source": [
        "# predict on testing set\n",
        "y_pred_bilstm = bilstm_model.predict(x_test, batch_size = 1024, verbose = 1)"
      ]
    },
    {
      "cell_type": "code",
      "execution_count": 57,
      "metadata": {
        "id": "Y-F5JS7E1kG6"
      },
      "outputs": [],
      "source": [
        "# save to sample submission dataframe and save as csv\n",
        "sample[\"target\"] = [1 if i > 0.5 else 0 for i in y_pred_bilstm]"
      ]
    },
    {
      "cell_type": "code",
      "execution_count": 58,
      "metadata": {
        "id": "NHpwUila1raS"
      },
      "outputs": [],
      "source": [
        "sample.to_csv('Submission_bilstm.csv', index=False)"
      ]
    },
    {
      "cell_type": "markdown",
      "metadata": {
        "id": "aQjFPMLPxbxF"
      },
      "source": [
        "## Bert+Bert"
      ]
    },
    {
      "cell_type": "code",
      "execution_count": 59,
      "metadata": {
        "id": "ECDvgj0fw7ew"
      },
      "outputs": [],
      "source": [
        "# prepare train and test set\n",
        "tr, F, T = cleaner(train, stopWrds = False, Lemmatize = False, dropDigits = True, dropSinLet = False)\n",
        "te, _, _ = cleaner(test, stopWrds = False, Lemmatize = False, dropDigits = True, dropSinLet = False, labeled = False)"
      ]
    },
    {
      "cell_type": "code",
      "source": [
        "# prepare validation set\n",
        "np.random.seed(1)\n",
        "r = np.random.uniform(low=0.0, high=1.0, size=train.shape[0])\n",
        "y_tr_val = y_train[r > 0.2]\n",
        "y_te_val = y_train[r <= 0.2]\n",
        "tr_val, _, _ = cleaner(train.loc[r > 0.2], stopWrds = False, Lemmatize = False, dropDigits = True, dropSinLet = False)\n",
        "te_val, _, _ = cleaner(train.loc[r <= 0.2], stopWrds = False, Lemmatize = False, dropDigits = True, dropSinLet = False, labeled = False)"
      ],
      "metadata": {
        "id": "t9tewU6kIg5y"
      },
      "execution_count": 60,
      "outputs": []
    },
    {
      "cell_type": "code",
      "execution_count": 61,
      "metadata": {
        "id": "btf8kpo7w7hr"
      },
      "outputs": [],
      "source": [
        "bert_tokenizer = BertTokenizer.from_pretrained(\"bert-base-uncased\")"
      ]
    },
    {
      "cell_type": "code",
      "execution_count": 62,
      "metadata": {
        "id": "Mrh_9wQUw7j2",
        "colab": {
          "base_uri": "https://localhost:8080/"
        },
        "outputId": "0630b616-ec35-4b70-b5b3-618d132ba6df"
      },
      "outputs": [
        {
          "output_type": "stream",
          "name": "stdout",
          "text": [
            "150\n"
          ]
        }
      ],
      "source": [
        "# print max length\n",
        "length_val = max([max([len(i) for i in tr_val]), max([len(i) for i in te_val])])\n",
        "print(length_val)"
      ]
    },
    {
      "cell_type": "code",
      "execution_count": 63,
      "metadata": {
        "id": "k3aFQRrxw7mL"
      },
      "outputs": [],
      "source": [
        "# pretrained bert tokenizer\n",
        "def prepareBERT(l, X, Y=None):\n",
        "    inp_ids = []\n",
        "    am = []\n",
        "\n",
        "    for s in X:\n",
        "        bert_inp = bert_tokenizer.encode_plus(\n",
        "            s,\n",
        "            add_special_tokens = True,\n",
        "            max_length = l,\n",
        "            padding ='max_length',\n",
        "            return_attention_mask = True,\n",
        "            truncation = True\n",
        "        )\n",
        "        inp_ids.append(bert_inp['input_ids'])\n",
        "        am.append(bert_inp['attention_mask'])\n",
        "\n",
        "    inp_ids = np.asarray(inp_ids)\n",
        "    am = np.array(am)\n",
        "    print(len(inp_ids))\n",
        "    print(len(am))\n",
        "\n",
        "    if Y is not None:\n",
        "        print(len(Y))\n",
        "    return inp_ids, am"
      ]
    },
    {
      "cell_type": "code",
      "execution_count": 64,
      "metadata": {
        "colab": {
          "base_uri": "https://localhost:8080/"
        },
        "id": "1zcrNZYSw7o9",
        "outputId": "0a61c96d-14dd-4049-99a1-704ca1e99a8e"
      },
      "outputs": [
        {
          "output_type": "stream",
          "name": "stdout",
          "text": [
            "1520\n",
            "1520\n",
            "1520\n",
            "6093\n",
            "6093\n",
            "6093\n"
          ]
        }
      ],
      "source": [
        "# create inpud ids, and attention masks for train set\n",
        "input_ids_te_val, attention_mask_te_val = prepareBERT(length_val, te_val, y_te_val)\n",
        "input_ids_tr_val, attention_mask_tr_val = prepareBERT(length_val, tr_val, y_tr_val)"
      ]
    },
    {
      "cell_type": "code",
      "execution_count": 65,
      "metadata": {
        "colab": {
          "base_uri": "https://localhost:8080/"
        },
        "id": "Dj-xPh2NxK8B",
        "outputId": "8f58ab54-8c33-4185-95ae-cf1143d08e81"
      },
      "outputs": [
        {
          "output_type": "stream",
          "name": "stdout",
          "text": [
            "3263\n",
            "3263\n"
          ]
        }
      ],
      "source": [
        "# create inpud ids, and attention masks for test set\n",
        "input_ids_te, attention_mask_te = prepareBERT(length_val, te)"
      ]
    },
    {
      "cell_type": "code",
      "execution_count": 66,
      "metadata": {
        "colab": {
          "base_uri": "https://localhost:8080/"
        },
        "id": "HPZMCWrWxK-c",
        "outputId": "14cee539-e1d6-40f3-cfff-be91c64b5b7a"
      },
      "outputs": [
        {
          "output_type": "stream",
          "name": "stderr",
          "text": [
            "All model checkpoint layers were used when initializing TFBertForSequenceClassification.\n",
            "\n",
            "Some layers of TFBertForSequenceClassification were not initialized from the model checkpoint at bert-base-uncased and are newly initialized: ['classifier']\n",
            "You should probably TRAIN this model on a down-stream task to be able to use it for predictions and inference.\n",
            "/usr/local/lib/python3.8/dist-packages/keras/optimizers/optimizer_v2/adam.py:110: UserWarning: The `lr` argument is deprecated, use `learning_rate` instead.\n",
            "  super(Adam, self).__init__(name, **kwargs)\n"
          ]
        }
      ],
      "source": [
        "# model\n",
        "bert_model = TFBertForSequenceClassification.from_pretrained(\n",
        "    'bert-base-uncased', \n",
        "    hidden_dropout_prob = 0.15,\n",
        "    attention_probs_dropout_prob = 0.15,\n",
        "    hidden_act = \"relu\",\n",
        "    num_labels = 2\n",
        ")\n",
        "\n",
        "bert_model.compile(\n",
        "    loss = SparseCategoricalCrossentropy(from_logits = True),\n",
        "    optimizer = Adam(lr = 5e-5, epsilon = 1e-08, clipvalue = 10),\n",
        "    metrics = [SparseCategoricalAccuracy(), f1_m]\n",
        ")\n",
        "bert_model.trainable = True"
      ]
    },
    {
      "cell_type": "code",
      "execution_count": 67,
      "metadata": {
        "colab": {
          "base_uri": "https://localhost:8080/"
        },
        "id": "vL2fAenVxLFa",
        "outputId": "9f9faccc-4097-43dd-b92b-1f02cdffc6f7"
      },
      "outputs": [
        {
          "output_type": "stream",
          "name": "stdout",
          "text": [
            "Model: \"tf_bert_for_sequence_classification\"\n",
            "_________________________________________________________________\n",
            " Layer (type)                Output Shape              Param #   \n",
            "=================================================================\n",
            " bert (TFBertMainLayer)      multiple                  109482240 \n",
            "                                                                 \n",
            " dropout_39 (Dropout)        multiple                  0         \n",
            "                                                                 \n",
            " classifier (Dense)          multiple                  1538      \n",
            "                                                                 \n",
            "=================================================================\n",
            "Total params: 109,483,778\n",
            "Trainable params: 109,483,778\n",
            "Non-trainable params: 0\n",
            "_________________________________________________________________\n"
          ]
        }
      ],
      "source": [
        "bert_model.summary()"
      ]
    },
    {
      "cell_type": "code",
      "execution_count": 68,
      "metadata": {
        "colab": {
          "base_uri": "https://localhost:8080/"
        },
        "id": "tzoZfeQl_oWo",
        "outputId": "000c2bd1-721f-4e13-9426-7d892a7a7442"
      },
      "outputs": [
        {
          "output_type": "stream",
          "name": "stdout",
          "text": [
            "Epoch 1/2\n",
            "127/127 [==============================] - 44s 197ms/step - loss: 0.4909 - sparse_categorical_accuracy: 0.7715 - f1_m: 0.4689 - val_loss: 0.3946 - val_sparse_categorical_accuracy: 0.8355 - val_f1_m: 0.5929\n",
            "Epoch 2/2\n",
            "127/127 [==============================] - 22s 171ms/step - loss: 0.3799 - sparse_categorical_accuracy: 0.8477 - f1_m: 0.5650 - val_loss: 0.4001 - val_sparse_categorical_accuracy: 0.8342 - val_f1_m: 0.5916\n"
          ]
        }
      ],
      "source": [
        "# training\n",
        "bert_history = bert_model.fit(\n",
        "    [input_ids_tr_val, attention_mask_tr_val],\n",
        "    y_tr_val,\n",
        "    batch_size = 48,\n",
        "    epochs = 2,\n",
        "    validation_data = ([input_ids_te_val, attention_mask_te_val], y_te_val)\n",
        ")"
      ]
    },
    {
      "cell_type": "code",
      "execution_count": 69,
      "metadata": {
        "colab": {
          "base_uri": "https://localhost:8080/",
          "height": 301
        },
        "id": "zASTuQLM09z0",
        "outputId": "1398d8a2-cf9a-434f-ad64-acea6bc8254a"
      },
      "outputs": [
        {
          "output_type": "execute_result",
          "data": {
            "text/plain": [
              "<matplotlib.legend.Legend at 0x7f52e8304670>"
            ]
          },
          "metadata": {},
          "execution_count": 69
        },
        {
          "output_type": "display_data",
          "data": {
            "text/plain": [
              "<Figure size 432x288 with 1 Axes>"
            ],
            "image/png": "[encoded data removed]"
          },
          "metadata": {}
        }
      ],
      "source": [
        "plt.plot(bert_history.history['sparse_categorical_accuracy'], label = 'accuracy')\n",
        "plt.plot(bert_history.history['val_sparse_categorical_accuracy'], label = 'val_accuracy')\n",
        "plt.xlabel('Epoch')\n",
        "plt.ylabel('Accuracy')\n",
        "plt.ylim([0, 1])\n",
        "plt.legend(loc = 'lower right')"
      ]
    },
    {
      "cell_type": "code",
      "execution_count": 70,
      "metadata": {
        "colab": {
          "base_uri": "https://localhost:8080/",
          "height": 301
        },
        "id": "gNQnqsOy09z2",
        "outputId": "f7e2ad64-ed0d-4f8e-ad26-a1147bd433de"
      },
      "outputs": [
        {
          "output_type": "execute_result",
          "data": {
            "text/plain": [
              "<matplotlib.legend.Legend at 0x7f5280bf3340>"
            ]
          },
          "metadata": {},
          "execution_count": 70
        },
        {
          "output_type": "display_data",
          "data": {
            "text/plain": [
              "<Figure size 432x288 with 1 Axes>"
            ],
            "image/png": "[encoded data removed]"
          },
          "metadata": {}
        }
      ],
      "source": [
        "plt.plot(bert_history.history['loss'], label = 'loss')\n",
        "plt.plot(bert_history.history['val_loss'], label = 'val_loss')\n",
        "plt.xlabel('Epoch')\n",
        "plt.ylabel('Loss')\n",
        "plt.ylim([0, 1])\n",
        "plt.legend(loc = 'lower right')"
      ]
    },
    {
      "cell_type": "code",
      "source": [
        "plt.plot(bert_history.history['f1_m'], label = 'f1')\n",
        "plt.plot(bert_history.history['val_f1_m'], label = 'val_f1')\n",
        "plt.xlabel('Epoch')\n",
        "plt.ylabel('F1')\n",
        "plt.ylim([0, 1])\n",
        "plt.legend(loc = 'lower right')"
      ],
      "metadata": {
        "colab": {
          "base_uri": "https://localhost:8080/",
          "height": 301
        },
        "id": "MtQY3-xyKFb5",
        "outputId": "f5952240-7c07-4144-9a24-6b3d51ea06c7"
      },
      "execution_count": 71,
      "outputs": [
        {
          "output_type": "execute_result",
          "data": {
            "text/plain": [
              "<matplotlib.legend.Legend at 0x7f52e3038e50>"
            ]
          },
          "metadata": {},
          "execution_count": 71
        },
        {
          "output_type": "display_data",
          "data": {
            "text/plain": [
              "<Figure size 432x288 with 1 Axes>"
            ],
            "image/png": "[encoded data removed]"
          },
          "metadata": {}
        }
      ]
    },
    {
      "cell_type": "code",
      "execution_count": 72,
      "metadata": {
        "colab": {
          "base_uri": "https://localhost:8080/"
        },
        "id": "5jWparc1xT-Y",
        "outputId": "91f9abde-190a-42fe-cc1d-0cb541c26f4d"
      },
      "outputs": [
        {
          "output_type": "stream",
          "name": "stdout",
          "text": [
            "68/68 [==============================] - 7s 59ms/step\n"
          ]
        }
      ],
      "source": [
        "# predict\n",
        "y_pred_bert = bert_model.predict([input_ids_te, attention_mask_te], batch_size = 48)"
      ]
    },
    {
      "cell_type": "code",
      "execution_count": 73,
      "metadata": {
        "id": "quhkpf7UxUBD"
      },
      "outputs": [],
      "source": [
        "y_pred_bert = [i[1] for i in softmax(y_pred_bert[0]).numpy().tolist()]"
      ]
    },
    {
      "cell_type": "code",
      "execution_count": 74,
      "metadata": {
        "id": "xXSrNXSuxUDb"
      },
      "outputs": [],
      "source": [
        "# save\n",
        "sample[\"target\"] = [1 if i > 0.5 else 0 for i in y_pred_bert]"
      ]
    },
    {
      "cell_type": "code",
      "execution_count": 75,
      "metadata": {
        "id": "Pyur_IGexUFg"
      },
      "outputs": [],
      "source": [
        "sample.to_csv(\"Submission_BERT.csv\", index=False)"
      ]
    },
    {
      "cell_type": "markdown",
      "metadata": {
        "id": "9PCXjxAD3rz9"
      },
      "source": [
        "## Roberta+Roberta"
      ]
    },
    {
      "cell_type": "code",
      "execution_count": 76,
      "metadata": {
        "id": "VGQzbf2_28f7"
      },
      "outputs": [],
      "source": [
        "roberta_tokenizer = RobertaTokenizer.from_pretrained('roberta-base')"
      ]
    },
    {
      "cell_type": "code",
      "execution_count": 77,
      "metadata": {
        "id": "Cv5XRSd628f7",
        "colab": {
          "base_uri": "https://localhost:8080/"
        },
        "outputId": "29a9a746-8946-4027-823c-e0d59f742282"
      },
      "outputs": [
        {
          "output_type": "stream",
          "name": "stdout",
          "text": [
            "150\n"
          ]
        }
      ],
      "source": [
        "# print max length\n",
        "length_val = max([max([len(i) for i in tr_val]), max([len(i) for i in te_val])])\n",
        "print(length_val)"
      ]
    },
    {
      "cell_type": "code",
      "execution_count": 78,
      "metadata": {
        "id": "GECjYIhT28f8"
      },
      "outputs": [],
      "source": [
        "# pretrained roberta tokenizer\n",
        "def prepareROBERTA(l, X, Y=None):\n",
        "    inp_ids = []\n",
        "    am = []\n",
        "\n",
        "    for s in X:\n",
        "        roberta_inp = roberta_tokenizer.encode_plus(\n",
        "            s,\n",
        "            add_special_tokens = True,\n",
        "            max_length = l,\n",
        "            padding ='max_length',\n",
        "            return_attention_mask = True,\n",
        "            truncation = True\n",
        "        )\n",
        "        inp_ids.append(roberta_inp['input_ids'])\n",
        "        am.append(roberta_inp['attention_mask'])\n",
        "\n",
        "    inp_ids = np.asarray(inp_ids)\n",
        "    am = np.array(am)\n",
        "    print(len(inp_ids));print(len(am))\n",
        "    if Y is not None:\n",
        "        print(len(Y))\n",
        "    return inp_ids, am"
      ]
    },
    {
      "cell_type": "code",
      "execution_count": 79,
      "metadata": {
        "colab": {
          "base_uri": "https://localhost:8080/"
        },
        "id": "iKtIKpzl28f8",
        "outputId": "bb6747d8-b4d5-42fc-a831-a57be618e9c7"
      },
      "outputs": [
        {
          "output_type": "stream",
          "name": "stdout",
          "text": [
            "1520\n",
            "1520\n",
            "1520\n",
            "6093\n",
            "6093\n",
            "6093\n"
          ]
        }
      ],
      "source": [
        "# create inpud ids, and attention masks for train set\n",
        "input_ids_te_val, attention_mask_te_val = prepareROBERTA(length_val, te_val, y_te_val)\n",
        "input_ids_tr_val, attention_mask_tr_val = prepareROBERTA(length_val, tr_val, y_tr_val)"
      ]
    },
    {
      "cell_type": "code",
      "execution_count": 80,
      "metadata": {
        "colab": {
          "base_uri": "https://localhost:8080/"
        },
        "id": "C8-vbCGr28f8",
        "outputId": "47ac2a4e-e5cf-4303-900d-5c4123f88656"
      },
      "outputs": [
        {
          "output_type": "stream",
          "name": "stdout",
          "text": [
            "3263\n",
            "3263\n"
          ]
        }
      ],
      "source": [
        "# create inpud ids, and attention masks for test set\n",
        "input_ids_te, attention_mask_te = prepareROBERTA(length_val, te)"
      ]
    },
    {
      "cell_type": "code",
      "execution_count": 81,
      "metadata": {
        "colab": {
          "base_uri": "https://localhost:8080/"
        },
        "id": "7HKFYzfI28f8",
        "outputId": "13ae8195-8253-485a-8e0c-d9ff0d52c408"
      },
      "outputs": [
        {
          "output_type": "stream",
          "name": "stderr",
          "text": [
            "All model checkpoint layers were used when initializing TFRobertaForSequenceClassification.\n",
            "\n",
            "Some layers of TFRobertaForSequenceClassification were not initialized from the model checkpoint at roberta-base and are newly initialized: ['classifier']\n",
            "You should probably TRAIN this model on a down-stream task to be able to use it for predictions and inference.\n"
          ]
        }
      ],
      "source": [
        "# model\n",
        "roberta_model = TFRobertaForSequenceClassification.from_pretrained(\n",
        "    'roberta-base', \n",
        "    hidden_dropout_prob = 0.15,\n",
        "    attention_probs_dropout_prob = 0.15,\n",
        "    hidden_act = \"relu\",\n",
        "    num_labels = 2\n",
        ")\n",
        "roberta_model.compile(\n",
        "    loss = SparseCategoricalCrossentropy(from_logits = True),\n",
        "    optimizer = Adam(lr = 5e-5, epsilon = 1e-08,clipvalue = 10),\n",
        "    metrics = [SparseCategoricalAccuracy(), f1_m]\n",
        ")\n",
        "roberta_model.trainable = True"
      ]
    },
    {
      "cell_type": "code",
      "execution_count": 82,
      "metadata": {
        "colab": {
          "base_uri": "https://localhost:8080/"
        },
        "id": "tUob2Bty28f8",
        "outputId": "74e327e2-486a-4fe1-9bc1-7c6b00ddaba6"
      },
      "outputs": [
        {
          "output_type": "stream",
          "name": "stdout",
          "text": [
            "Model: \"tf_roberta_for_sequence_classification\"\n",
            "_________________________________________________________________\n",
            " Layer (type)                Output Shape              Param #   \n",
            "=================================================================\n",
            " roberta (TFRobertaMainLayer  multiple                 124055040 \n",
            " )                                                               \n",
            "                                                                 \n",
            " classifier (TFRobertaClassi  multiple                 592130    \n",
            " ficationHead)                                                   \n",
            "                                                                 \n",
            "=================================================================\n",
            "Total params: 124,647,170\n",
            "Trainable params: 124,647,170\n",
            "Non-trainable params: 0\n",
            "_________________________________________________________________\n"
          ]
        }
      ],
      "source": [
        "roberta_model.summary()"
      ]
    },
    {
      "cell_type": "code",
      "execution_count": 83,
      "metadata": {
        "colab": {
          "base_uri": "https://localhost:8080/"
        },
        "id": "EAbRqvt228f8",
        "outputId": "b6777d47-80b0-4f47-f5b2-d7f4a4d7af4e"
      },
      "outputs": [
        {
          "output_type": "stream",
          "name": "stdout",
          "text": [
            "Epoch 1/2\n",
            "127/127 [==============================] - 42s 197ms/step - loss: 0.5447 - sparse_categorical_accuracy: 0.7189 - f1_m: 0.3556 - val_loss: 0.4312 - val_sparse_categorical_accuracy: 0.8118 - val_f1_m: 0.5810\n",
            "Epoch 2/2\n",
            "127/127 [==============================] - 22s 173ms/step - loss: 0.4169 - sparse_categorical_accuracy: 0.8236 - f1_m: 0.5263 - val_loss: 0.4205 - val_sparse_categorical_accuracy: 0.8191 - val_f1_m: 0.5293\n"
          ]
        }
      ],
      "source": [
        "# training\n",
        "roberta_history = roberta_model.fit(\n",
        "    [input_ids_tr_val,attention_mask_tr_val],\n",
        "    y_tr_val,\n",
        "    batch_size = 48,\n",
        "    epochs = 2,\n",
        "    validation_data = ([input_ids_te_val, attention_mask_te_val], y_te_val)\n",
        ")"
      ]
    },
    {
      "cell_type": "code",
      "execution_count": 84,
      "metadata": {
        "colab": {
          "base_uri": "https://localhost:8080/",
          "height": 301
        },
        "id": "kHvX_3qH28f8",
        "outputId": "4ccb1ca6-36d9-4f36-b2b7-a76bea917c24"
      },
      "outputs": [
        {
          "output_type": "execute_result",
          "data": {
            "text/plain": [
              "<matplotlib.legend.Legend at 0x7f527e8b0400>"
            ]
          },
          "metadata": {},
          "execution_count": 84
        },
        {
          "output_type": "display_data",
          "data": {
            "text/plain": [
              "<Figure size 432x288 with 1 Axes>"
            ],
            "image/png": "[encoded data removed]"
          },
          "metadata": {}
        }
      ],
      "source": [
        "plt.plot(roberta_history.history['sparse_categorical_accuracy'], label = 'accuracy')\n",
        "plt.plot(roberta_history.history['val_sparse_categorical_accuracy'], label = 'val_accuracy')\n",
        "plt.xlabel('Epoch')\n",
        "plt.ylabel('Accuracy')\n",
        "plt.ylim([0, 1])\n",
        "plt.legend(loc = 'lower right')"
      ]
    },
    {
      "cell_type": "code",
      "execution_count": 85,
      "metadata": {
        "colab": {
          "base_uri": "https://localhost:8080/",
          "height": 301
        },
        "id": "dtgmqzu028f8",
        "outputId": "55ed6e69-c1ca-4824-f5df-382c9713446d"
      },
      "outputs": [
        {
          "output_type": "execute_result",
          "data": {
            "text/plain": [
              "<matplotlib.legend.Legend at 0x7f528bfea820>"
            ]
          },
          "metadata": {},
          "execution_count": 85
        },
        {
          "output_type": "display_data",
          "data": {
            "text/plain": [
              "<Figure size 432x288 with 1 Axes>"
            ],
            "image/png": "[encoded data removed]"
          },
          "metadata": {}
        }
      ],
      "source": [
        "plt.plot(roberta_history.history['loss'], label = 'loss')\n",
        "plt.plot(roberta_history.history['val_loss'], label = 'val_loss')\n",
        "plt.xlabel('Epoch')\n",
        "plt.ylabel('Loss')\n",
        "plt.ylim([0, 1])\n",
        "plt.legend(loc = 'lower right')"
      ]
    },
    {
      "cell_type": "code",
      "source": [
        "plt.plot(roberta_history.history['f1_m'], label = 'f1')\n",
        "plt.plot(roberta_history.history['val_f1_m'], label = 'val_f1')\n",
        "plt.xlabel('Epoch')\n",
        "plt.ylabel('Accuracy')\n",
        "plt.ylim([0, 1])\n",
        "plt.legend(loc = 'lower right')"
      ],
      "metadata": {
        "colab": {
          "base_uri": "https://localhost:8080/",
          "height": 301
        },
        "id": "wMBf1Wi7OUI9",
        "outputId": "8bd97709-49ab-4ae2-dce1-74572a41fe9a"
      },
      "execution_count": 86,
      "outputs": [
        {
          "output_type": "execute_result",
          "data": {
            "text/plain": [
              "<matplotlib.legend.Legend at 0x7f528bfcde50>"
            ]
          },
          "metadata": {},
          "execution_count": 86
        },
        {
          "output_type": "display_data",
          "data": {
            "text/plain": [
              "<Figure size 432x288 with 1 Axes>"
            ],
            "image/png": "[encoded data removed]"
          },
          "metadata": {}
        }
      ]
    },
    {
      "cell_type": "code",
      "execution_count": 87,
      "metadata": {
        "colab": {
          "base_uri": "https://localhost:8080/"
        },
        "id": "CPgNEpwv28f9",
        "outputId": "5e0d9818-b34c-42dc-b8a4-29aaf4700585"
      },
      "outputs": [
        {
          "output_type": "stream",
          "name": "stdout",
          "text": [
            "68/68 [==============================] - 7s 59ms/step\n"
          ]
        }
      ],
      "source": [
        "# predict\n",
        "y_pred_roberta = roberta_model.predict([input_ids_te, attention_mask_te], batch_size = 48)"
      ]
    },
    {
      "cell_type": "code",
      "execution_count": 88,
      "metadata": {
        "id": "lXqFcWx928f9"
      },
      "outputs": [],
      "source": [
        "y_pred_roberta = [i[1] for i in softmax(y_pred_roberta[0]).numpy().tolist()]"
      ]
    },
    {
      "cell_type": "code",
      "execution_count": 89,
      "metadata": {
        "id": "HGP0QiqV28f9"
      },
      "outputs": [],
      "source": [
        "# save\n",
        "sample[\"target\"] = [1 if i > 0.5 else 0 for i in y_pred_roberta]"
      ]
    },
    {
      "cell_type": "code",
      "execution_count": 90,
      "metadata": {
        "id": "xWjfJ-jP28f9"
      },
      "outputs": [],
      "source": [
        "sample.to_csv(\"Submission_ROBERTA.csv\", index=False)"
      ]
    },
    {
      "cell_type": "markdown",
      "metadata": {
        "id": "vlr5AqpN6QVM"
      },
      "source": [
        "## Ensemble"
      ]
    },
    {
      "cell_type": "code",
      "execution_count": 91,
      "metadata": {
        "id": "tAkuMeJ428Ej"
      },
      "outputs": [],
      "source": [
        "s1 = pd.read_csv(\"/content/Submission_lstm.csv\")\n",
        "s2 = pd.read_csv(\"/content/Submission_bilstm.csv\")\n",
        "s3 = pd.read_csv(\"/content/Submission_BERT.csv\")\n",
        "s4 = pd.read_csv(\"/content/Submission_ROBERTA.csv\")"
      ]
    },
    {
      "cell_type": "code",
      "execution_count": 92,
      "metadata": {
        "id": "5KkdXLbU7g85"
      },
      "outputs": [],
      "source": [
        "# majority voting\n",
        "Voting = np.where(s1.target + s2.target + s3.target + s4.target >= 3, 1, 0)\n",
        "sample[\"target\"] = Voting\n",
        "sample.to_csv(\"Submission_Voting_v4.csv\", index=False)"
      ]
    },
    {
      "cell_type": "code",
      "execution_count": 93,
      "metadata": {
        "id": "LMg7snhY8wFO"
      },
      "outputs": [],
      "source": [
        "# only bilstm and bert\n",
        "Voting = np.where(s2.target + s3.target >= 1, 1, 0)\n",
        "sample[\"target\"] = Voting\n",
        "sample.to_csv(\"Submission_Voting_v2.csv\", index=False)"
      ]
    },
    {
      "cell_type": "code",
      "source": [],
      "metadata": {
        "id": "VQoPU7CpiFSJ"
      },
      "execution_count": null,
      "outputs": []
    }
  ],
  "metadata": {
    "accelerator": "GPU",
    "colab": {
      "machine_shape": "hm",
      "provenance": []
    },
    "gpuClass": "premium",
    "kernelspec": {
      "display_name": "Python 3",
      "name": "python3"
    },
    "language_info": {
      "name": "python"
    }
  },
  "nbformat": 4,
  "nbformat_minor": 0
}